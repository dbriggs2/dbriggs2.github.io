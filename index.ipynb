{
 "cells": [
  {
   "cell_type": "markdown",
   "metadata": {},
   "source": [
    "<img src=\"https://d1u5p3l4wpay3k.cloudfront.net/lolesports_gamepedia_en/thumb/5/5b/Worlds_2018.png/1200px-Worlds_2018.png\" />\n",
    "<h1 style=\"text-align:center\"> Analyzing League of Legends Champions and Match Statistics   </h1>\n",
    "<h6 style=\"text-align:center\"> Calvin Holman | Daniel Briggs | Christina Tobin </h6>\n"
   ]
  },
  {
   "cell_type": "markdown",
   "metadata": {},
   "source": [
    "<h3>Introduction</h3>\n",
    "\n",
    "League of Legends (LoL) is a multi-player, fast-paced, and competitive online game that blends the speed and intensity of an RTS (Real-Time Strategy) with RPG (Role Playing Game) elements. Two teams of powerful champions, each with a unique design and playstyle, battle head-to-head across multiple battlefields and game modes. League was developed and published by Riot Games for Microsoft Windows and macOS in 2009. The last player statistics released by the company in 2016 showed League has 100 million active players each month. Outside companies estimate this number has continued to rise over the last 2 years. In League of Legends, players assume the role of a \"summoner\" who controls a \"champion\" with unique abilities. They battle against a team of other players or computer-controlled champions. The goal is usually to destroy the opposing team's \"nexus\", a structure that lies at the heart of a base protected by defensive structures, although other distinct game modes exist as well. Each League of Legends match has all champions starting off fairly weak but increasing in strength by accumulating items and experience.\n",
    "\n",
    "Besides serving as an online game for hobbyists, League of Legends has a developed competitive scene. In North America and Europe, Riot Games organizes the League Championship Series (LCS), located in Los Angeles and Berlin respectively, which consists of 10 professional teams from each continent. Similar regional competitions exist in China (LPL), South Korea (LCK), Taiwan/Hong Kong/Macau (LMS), and various other regions. These regional competitions culminate with the annual World Championship. The 2018 Mid-Season Invitational had an overall peak concurrent viewership of 19.8 million, while the finals had an average concurrent viewership of 11 million along with a multi-million dollar prize pool. \n",
    "\n",
    "Given the widespread interest in League and its professional tournament, our tutorial objective is to use player statistics from the 6 regions that made it to worlds, to predict the world championship team. This data from [Gamepedia ](https://lol.gamepedia.com/League_of_Legends_Esports_Wiki), is from the most recent season, 2018 summer season. In order to accurately predict the winning team, we will begin by looking at champion data to see if we can accurately predict a champions win rate and ban rate with various champion statistics, like the Kills Deaths Assists (KDA) ratio and GoldShare (how much of the team's gold this champions averages per game). We will also look at the players by position to decide if a single role has more influence over a team's win. This can be broken down into what variables, such a Kills, Deaths, and Assists or GoldShare, have helped teams wins in the regular season. We will apply that to a heuristic that assigns coefficents, or weighs reflecting importance, to those variables. Using linear regression, our heuristic will be able to predict the winner of the league chanpionship. \n",
    "\n",
    "In doing this analysis, we hope to spark interest in new players and provide exciting new information for existing ones. For both types of players, the tutorial should offer insight into the important factors of games and how to win. For more information on the game, see [here.](https://na.leagueoflegends.com/en/game-info/get-started/) "
   ]
  },
  {
   "cell_type": "markdown",
   "metadata": {},
   "source": [
    "<h3> Getting Started with the Data </h3>\n",
    "\n",
    "The code for this will be in Python 3, making use of the available libraries such as [numPY](http://www.numpy.org/), [Pandas](https://pandas.pydata.org/), [bs4](https://www.crummy.com/software/BeautifulSoup/bs4/doc/), [sklearn](https://scikit-learn.org/stable/), and [statsmodel](https://www.statsmodels.org/stable/index.html)."
   ]
  },
  {
   "cell_type": "code",
   "execution_count": 1,
   "metadata": {},
   "outputs": [
    {
     "name": "stdout",
     "output_type": "stream",
     "text": [
      "Requirement already satisfied: statsmodels in c:\\users\\daniel briggs\\appdata\\local\\programs\\python\\python36-32\\lib\\site-packages\n",
      "Requirement already satisfied: patsy in c:\\users\\daniel briggs\\appdata\\local\\programs\\python\\python36-32\\lib\\site-packages (from statsmodels)\n",
      "Requirement already satisfied: pandas in c:\\users\\daniel briggs\\appdata\\local\\programs\\python\\python36-32\\lib\\site-packages (from statsmodels)\n",
      "Requirement already satisfied: six in c:\\users\\daniel briggs\\appdata\\local\\programs\\python\\python36-32\\lib\\site-packages (from patsy->statsmodels)\n",
      "Requirement already satisfied: numpy>=1.4 in c:\\users\\daniel briggs\\appdata\\local\\programs\\python\\python36-32\\lib\\site-packages (from patsy->statsmodels)\n",
      "Requirement already satisfied: python-dateutil>=2.5.0 in c:\\users\\daniel briggs\\appdata\\local\\programs\\python\\python36-32\\lib\\site-packages (from pandas->statsmodels)\n",
      "Requirement already satisfied: pytz>=2011k in c:\\users\\daniel briggs\\appdata\\local\\programs\\python\\python36-32\\lib\\site-packages (from pandas->statsmodels)\n"
     ]
    },
    {
     "name": "stderr",
     "output_type": "stream",
     "text": [
      "You are using pip version 9.0.3, however version 18.1 is available.\n",
      "You should consider upgrading via the 'python -m pip install --upgrade pip' command.\n"
     ]
    },
    {
     "name": "stdout",
     "output_type": "stream",
     "text": [
      "Requirement already satisfied: scipy in c:\\users\\daniel briggs\\appdata\\local\\programs\\python\\python36-32\\lib\\site-packages\n",
      "Requirement already satisfied: numpy>=1.8.2 in c:\\users\\daniel briggs\\appdata\\local\\programs\\python\\python36-32\\lib\\site-packages (from scipy)\n"
     ]
    },
    {
     "name": "stderr",
     "output_type": "stream",
     "text": [
      "You are using pip version 9.0.3, however version 18.1 is available.\n",
      "You should consider upgrading via the 'python -m pip install --upgrade pip' command.\n"
     ]
    },
    {
     "name": "stdout",
     "output_type": "stream",
     "text": [
      "Requirement already satisfied: lxml in c:\\users\\daniel briggs\\appdata\\local\\programs\\python\\python36-32\\lib\\site-packages\n"
     ]
    },
    {
     "name": "stderr",
     "output_type": "stream",
     "text": [
      "You are using pip version 9.0.3, however version 18.1 is available.\n",
      "You should consider upgrading via the 'python -m pip install --upgrade pip' command.\n"
     ]
    }
   ],
   "source": [
    "!pip install statsmodels\n",
    "!pip install scipy\n",
    "!pip install lxml\n",
    "import requests\n",
    "from bs4 import BeautifulSoup\n",
    "import numpy as np\n",
    "import pandas as pd\n",
    "import re\n",
    "\n",
    "from itertools import chain\n",
    "from itertools import combinations\n",
    "\n",
    "from sklearn import linear_model\n",
    "import statsmodels.formula.api as sm\n",
    "from sklearn.metrics import mean_squared_error, r2_score\n",
    "from sklearn.model_selection import train_test_split\n",
    "\n",
    "import matplotlib.pyplot as plt"
   ]
  },
  {
   "cell_type": "markdown",
   "metadata": {},
   "source": [
    "<h3>Obtaining the Data</h3>\n",
    "\n",
    "The data, pulled from [Gamepedia](https://lol.gamepedia.com/League_of_Legends_Esports_Wiki), is obtained through GET requests and stored in variables r1 through r14. Most of the requests are for the regular season data for each region. When the data was originally read in, the information was saved into csv files. Since the start of our work, the website changed their data encoding so we will use the csv files to access the information. However, we have kept in the steps used to procure the data originally."
   ]
  },
  {
   "cell_type": "code",
   "execution_count": 2,
   "metadata": {},
   "outputs": [],
   "source": [
    "# GET requests for all of the different datasets we will need. These are broken into 2 brackets as the large number of requests \n",
    "#will seem like an attack if they all go through at once. \n",
    "\n",
    "# Gather tournament data on all 90 players\n",
    "r = requests.get(\"https://lol.gamepedia.com/2018_Season_World_Championship/Main_Event/Player_Statistics\")\n",
    "\n",
    "# Regular season data from North America\n",
    "r2 = requests.get(\"https://lol.gamepedia.com/NA_LCS/2018_Season/Summer_Season/Player_Statistics\")\n",
    "\n",
    "# Regular Season data from EU\n",
    "r3 = requests.get(\"https://lol.gamepedia.com/EU_LCS/2018_Season/Summer_Season/Player_Statistics\")\n",
    "\n",
    "# Regular Season data from the LPL\n",
    "r4 = requests.get(\"https://lol.gamepedia.com/LPL/2018_Season/Summer_Season/Player_Statistics\")\n",
    "\n",
    "# Regular Season data from the LCK\n",
    "r5 = requests.get(\"https://lol.gamepedia.com/LCK/2018_Season/Summer_Season/Player_Statistics\")\n",
    "\n",
    "# Regular Season data from the LMS\n",
    "r6 = requests.get(\"https://lol.gamepedia.com/LMS/2018_Season/Summer_Season/Player_Statistics\")\n",
    "\n",
    "# Regular Season data from the VCS\n",
    "r7 = requests.get(\"https://lol.gamepedia.com/VCS/2018_Season/Summer_Season/Player_Statistics\")\n",
    "\n",
    "# Champion data from play-ins\n",
    "r8 = requests.get(\"https://lol.gamepedia.com/2018_Season_World_Championship/Main_Event/Champion_Statistics\")"
   ]
  },
  {
   "cell_type": "code",
   "execution_count": 3,
   "metadata": {},
   "outputs": [],
   "source": [
    "# Match data from North America\n",
    "r9 = requests.get(\"https://lol.gamepedia.com/NA_LCS/2018_Season/Summer_Season\")\n",
    "\n",
    "# Match data from Europe\n",
    "r10 = requests.get(\"https://lol.gamepedia.com/EU_LCS/2018_Season/Summer_Season\")\n",
    "\n",
    "# Regular Season data from the LPL\n",
    "r11 = requests.get(\"https://lol.gamepedia.com/LPL/2018_Season/Summer_Season\")\n",
    "\n",
    "# Regular Season data from the LCK\n",
    "r12 = requests.get(\"https://lol.gamepedia.com/LCK/2018_Season/Summer_Season\")\n",
    "\n",
    "# Regular Season data from the LMS\n",
    "r13 = requests.get(\"https://lol.gamepedia.com/LMS/2018_Season/Summer_Season\")\n",
    "\n",
    "# Regular Season data from the VCS\n",
    "r14 = requests.get(\"https://lol.gamepedia.com/VCS/2018_Season/Summer_Season\")"
   ]
  },
  {
   "cell_type": "markdown",
   "metadata": {},
   "source": [
    "<h3>Data Tidying and Modification</h3>\n",
    "\n",
    "Now that all our data is read in and stored, we want to parse through it to get each team's data. Due to the way the website provides the information, several parsers are needed depending on the page. Data parsing and tidying, given the large amount of data needed and the numerous steps to modify and tidy it in the dataframes, is a significant part of our project. Tidied data will make the linear regression portion of our project much easier, so we spent a lot of time prepping the data. \n",
    "\n",
    "\n",
    "The first thing we looked at was the match data. We went through, getting the team's data, inserting NaN, a variable for non existant values, in place of empty or missing data slots, and disgarding unnecessary rows before we stored the information in a final dataframe called 'matchReg.'\n",
    "\n",
    "Keep in mind that these steps may not work as the website continues to change their encoding and format over time."
   ]
  },
  {
   "cell_type": "code",
   "execution_count": 4,
   "metadata": {},
   "outputs": [
    {
     "ename": "IndexError",
     "evalue": "list index out of range",
     "output_type": "error",
     "traceback": [
      "\u001b[1;31m---------------------------------------------------------------------------\u001b[0m",
      "\u001b[1;31mIndexError\u001b[0m                                Traceback (most recent call last)",
      "\u001b[1;32m<ipython-input-4-4d020fe732ef>\u001b[0m in \u001b[0;36m<module>\u001b[1;34m\u001b[0m\n\u001b[0;32m     65\u001b[0m         \u001b[1;31m# Turn the beautiful soup object into a string and split at the beginning and end of the\u001b[0m\u001b[1;33m\u001b[0m\u001b[1;33m\u001b[0m\u001b[0m\n\u001b[0;32m     66\u001b[0m         \u001b[1;31m# the table to give us exactly what we need\u001b[0m\u001b[1;33m\u001b[0m\u001b[1;33m\u001b[0m\u001b[0m\n\u001b[1;32m---> 67\u001b[1;33m         \u001b[0ml\u001b[0m \u001b[1;33m=\u001b[0m \u001b[0mstr\u001b[0m\u001b[1;33m(\u001b[0m\u001b[0mbs\u001b[0m\u001b[1;33m)\u001b[0m\u001b[1;33m.\u001b[0m\u001b[0msplit\u001b[0m\u001b[1;33m(\u001b[0m\u001b[1;34m\"Overall\"\u001b[0m\u001b[1;33m)\u001b[0m\u001b[1;33m[\u001b[0m\u001b[1;36m1\u001b[0m\u001b[1;33m]\u001b[0m\u001b[1;33m.\u001b[0m\u001b[0msplit\u001b[0m\u001b[1;33m(\u001b[0m\u001b[1;34m\"</tbody>\"\u001b[0m\u001b[1;33m)\u001b[0m\u001b[1;33m[\u001b[0m\u001b[1;36m0\u001b[0m\u001b[1;33m]\u001b[0m\u001b[1;33m.\u001b[0m\u001b[0msplit\u001b[0m\u001b[1;33m(\u001b[0m\u001b[1;34m\"</th></tr>\"\u001b[0m\u001b[1;33m)\u001b[0m\u001b[1;33m[\u001b[0m\u001b[1;36m1\u001b[0m\u001b[1;33m:\u001b[0m\u001b[1;33m-\u001b[0m\u001b[1;36m1\u001b[0m\u001b[1;33m]\u001b[0m\u001b[1;33m\u001b[0m\u001b[0m\n\u001b[0m\u001b[0;32m     68\u001b[0m \u001b[1;33m\u001b[0m\u001b[0m\n\u001b[0;32m     69\u001b[0m         \u001b[1;31m# Split for each team in the region\u001b[0m\u001b[1;33m\u001b[0m\u001b[1;33m\u001b[0m\u001b[0m\n",
      "\u001b[1;31mIndexError\u001b[0m: list index out of range"
     ]
    }
   ],
   "source": [
    "ls = []  # This will store the parsed BeautifulSoup object for each region in a list\n",
    "matchReg = [] # This list will store the final results of our data collection for each region\n",
    "j = 0\n",
    "\n",
    "# Parse with lxml\n",
    "ls.append(BeautifulSoup(r9.text, \"lxml\"))\n",
    "ls.append(BeautifulSoup(r10.text, \"lxml\"))\n",
    "ls.append(BeautifulSoup(r11.text, \"lxml\"))\n",
    "ls.append(BeautifulSoup(r12.text, \"lxml\"))\n",
    "ls.append(BeautifulSoup(r13.text, \"lxml\"))\n",
    "ls.append(BeautifulSoup(r14.text, \"lxml\"))\n",
    "\n",
    "# Number of teams for each region\n",
    "numTeams = [10,10,7,10,8,8]\n",
    "\n",
    "# Go through each Region's BeautifulSoup parsing\n",
    "for bs in ls:\n",
    "    \n",
    "    # Note: Since each region's data is stored on a separate webpage, it isn't stored the same way and the\n",
    "    #       parsing rules are different depending on the region. This is why we have a variable, j, that helps\n",
    "    #       us keep track of what region we're on by acting as an iteration counter.\n",
    "    \n",
    "    # Parsing the LPL data\n",
    "    if j==2:\n",
    "\n",
    "        # Turn the beautiful soup object into a string, and find the beginning of the table. Since we're doing a \n",
    "        # string split, we cut off the first element, which is the data before the table\n",
    "        l = str(bs).split(\"title=\\\"Points\\\"\")[1:]\n",
    "\n",
    "        arr = []  # final array for the dataframe\n",
    "\n",
    "        # Loop for east and west region\n",
    "        for t in range(0,2):\n",
    "            # Find the beginning of each row\n",
    "            l[t] = l[t].split(\"title=\\\"\")[1:]\n",
    "\n",
    "            l2 = []     # Remove unnecessary rows\n",
    "            l2 = [s for s in l[t] if \"std.png\" not in s]\n",
    "            l[t] = l2\n",
    "\n",
    "            # Split on the </div> tag to get the data for each row\n",
    "            l[t][numTeams[2]-1] = l[t][numTeams[2]-1].split(\"</div>\")[0]\n",
    "\n",
    "            # Get each team's data\n",
    "            for x in range(0,numTeams[2]):\n",
    "                l[t][x] = l[t][x].split(\"align=\\\"center\")\n",
    "                l2 = []\n",
    "                l2.append(l[t][x][0].split(\"\\\">\")[0])\n",
    "\n",
    "                # Different parsing rules for each region\n",
    "                if (t==2):\n",
    "                    l2.append(l[t][x][5][2:9])\n",
    "                else:\n",
    "                    l2.append(l[t][x][3][2:9])\n",
    "\n",
    "                # add to our final array\n",
    "                arr.append(l2)\n",
    "\n",
    "        # Create the dataframe from our array, and append it to the matchReg list\n",
    "        matchReg.append(pd.DataFrame(np.array(arr).reshape(len(arr),2), columns = ['Team', 'Record']))\n",
    "    \n",
    "    # EU_LCS Data\n",
    "    elif j==1:\n",
    "        \n",
    "        # Turn the beautiful soup object into a string and split at the beginning and end of the\n",
    "        # the table to give us exactly what we need\n",
    "        l = str(bs).split(\"Overall\")[1].split(\"</tbody>\")[0].split(\"</th></tr>\")[1:-1]\n",
    "        \n",
    "        # Split for each team in the region\n",
    "        for h in range(0,len(l)):\n",
    "            l[h] = l[h].split(\"style=\\\"background-color:\")\n",
    "            \n",
    "            # Team name  \n",
    "            l[h][0] = l[h][0].split(\"title=\")[1].split(\"\\\"><img alt\")[0][1:]\n",
    "            \n",
    "            # Get match data\n",
    "            for g in range(1,numTeams[j]+1):\n",
    "                tmpStr = l[h][g][6:] \n",
    "                \n",
    "                # Some of the columns have dummy values, so if we see one, we replace it with 'blank'\n",
    "                # which means we know to remove it later on\n",
    "                tmpStr = 'blank' if tmpStr[0] == 'A' else tmpStr[0:5]\n",
    "                \n",
    "                l[h][g] = tmpStr\n",
    "            \n",
    "            # Remove the last row\n",
    "            l[h] = l[h][0:-1]\n",
    "            \n",
    "        # Create the column headers for the dataframe\n",
    "        teams = [\"Teams\"]\n",
    "        for t in l:\n",
    "            teams.append(t[0])\n",
    "            \n",
    "        # Create the dataframe and append to our list\n",
    "        matchReg.append(pd.DataFrame(np.array(l).reshape(len(l),len(l[0])), columns = teams))\n",
    "\n",
    "        # Replace our spacer values with NaN to standardize it\n",
    "        matchReg[j] = matchReg[j].replace(\"blank\",np.nan)\n",
    "        \n",
    "    # LMS and VCS are parsed the same \n",
    "    elif j==4 or j==5:\n",
    "        \n",
    "        # Split at the beginning and end of the table to get exactly what we need.\n",
    "        l = str(bs).split(\"Overall\")[1].split(\"</tbody>\")[0].split(\"</th></tr>\")[1:-1]\n",
    "        \n",
    "        # Split for each team\n",
    "        for h in range(0,len(l)):\n",
    "            l[h] = l[h].split(\"style=\\\"background-color:\")\n",
    "            \n",
    "            # Team name  \n",
    "            l[h][0] = l[h][0].split(\"title=\")[1].split(\"\\\"><img alt\")[0][1:]\n",
    "            \n",
    "            l2 = [] # Exclude rows that contain 'display', since they contain dummy values\n",
    "            l2 = [s for s in l[h] if \"display\" not in s]\n",
    "            l[h] = l2\n",
    "            \n",
    "            # Get match data\n",
    "            for g in range(1,numTeams[j]+1):\n",
    "                tmpStr = l[h][g][6:]\n",
    "                \n",
    "                # Put in 'blank' for the rows we don't want to make sure we change them later\n",
    "                tmpStr = 'blank' if tmpStr[0] == 'A' else tmpStr[1:6]\n",
    "                \n",
    "                l[h][g] = tmpStr\n",
    "            \n",
    "            # Remove the last row\n",
    "            l[h] = l[h][0:-1]\n",
    "        \n",
    "        # Create the column headers for the dataframe\n",
    "        teams = [\"Teams\"]\n",
    "        for t in l:\n",
    "            teams.append(t[0])\n",
    "            \n",
    "        # Create the dataframe\n",
    "        matchReg.append(pd.DataFrame(np.array(l).reshape(len(l),len(l[0])), columns = teams))\n",
    "\n",
    "        # Replace our spacer values with NaN to standardize it\n",
    "        matchReg[j] = matchReg[j].replace(\"blank\",np.nan)\n",
    "      \n",
    "    # Default parser -> Works for NA_LCS and LCK\n",
    "    else:\n",
    "        \n",
    "        # Split at the beginning of the table\n",
    "        l = str(bs).split(\"plainlinks crossbox\")[1].split(\"title=\")[1:]\n",
    "\n",
    "        # Get all of the teams\n",
    "        for x in range(0,numTeams[j]):\n",
    "            l[x] = l[x][1:]\n",
    "            l[x] = l[x].split(\"\\\"><img alt\")[0]\n",
    "\n",
    "        # Get all team names as the first element\n",
    "        l[0:numTeams[j]] = [','.join(l[0:numTeams[j]])]\n",
    "        l[0] = l[0].split(\",\")\n",
    "\n",
    "        # Get match data for each team\n",
    "        for t in range(1,numTeams[0]+1):\n",
    "            l[t] = l[t].split(\"<span class=\\\"crossbox-match-link\")[:-1]\n",
    "\n",
    "            # Get the score for how well each team did\n",
    "            for x in range(0,len(l[t])):\n",
    "                l[t][x] = l[t][x][-5:]\n",
    "\n",
    "            # Insert the team name at the beginning of the row\n",
    "            l[t].insert(0,l[0][t-1])\n",
    "\n",
    "        # Cut off unnecessary rows in the array\n",
    "        l = l[:numTeams[j]+1]\n",
    "\n",
    "        # Insert spacing because you can't play yourself\n",
    "        for t in range(1,numTeams[j]+1):\n",
    "            l[t].insert(t,'blank')\n",
    "            l[t] = l[t][:numTeams[j]+1]\n",
    "\n",
    "        # Insert new column\n",
    "        l[0].insert(0,'Teams')\n",
    "\n",
    "        # Create the dataframe\n",
    "        matchReg.append(pd.DataFrame(np.array(l[1:]).reshape(len(l)-1,len(l[0])), columns = l[0]))\n",
    "\n",
    "        # Replace our spacer values with NaN to standardize it\n",
    "        matchReg[j] = matchReg[j].replace(\"blank\",np.nan)\n",
    "    \n",
    "    j = j+1\n"
   ]
  },
  {
   "cell_type": "markdown",
   "metadata": {},
   "source": [
    "As stated above, since the website encodings changed, from here we used the csv's we originally stored the data we got with the above steps. The data read in from the CSVs were stored in our 'matchReg' dataframe. To make the information easier to use later in the tutorial by assigning some weight, we set the winner to be either 0 or 100 for each match. We then combined all the regional data in 'matchReg' into a master dataframed called 'masterMatch.'\n",
    "\n",
    "First let's take a look at what one of the regions looks like now."
   ]
  },
  {
   "cell_type": "code",
   "execution_count": 5,
   "metadata": {
    "scrolled": true
   },
   "outputs": [
    {
     "data": {
      "text/html": [
       "<div>\n",
       "<style scoped>\n",
       "    .dataframe tbody tr th:only-of-type {\n",
       "        vertical-align: middle;\n",
       "    }\n",
       "\n",
       "    .dataframe tbody tr th {\n",
       "        vertical-align: top;\n",
       "    }\n",
       "\n",
       "    .dataframe thead th {\n",
       "        text-align: right;\n",
       "    }\n",
       "</style>\n",
       "<table border=\"1\" class=\"dataframe\">\n",
       "  <thead>\n",
       "    <tr style=\"text-align: right;\">\n",
       "      <th></th>\n",
       "      <th>Team 0</th>\n",
       "      <th>Team 1</th>\n",
       "      <th>Winner</th>\n",
       "    </tr>\n",
       "  </thead>\n",
       "  <tbody>\n",
       "    <tr>\n",
       "      <th>0</th>\n",
       "      <td>100_Thieves</td>\n",
       "      <td>Cloud9</td>\n",
       "      <td>0</td>\n",
       "    </tr>\n",
       "    <tr>\n",
       "      <th>1</th>\n",
       "      <td>100_Thieves</td>\n",
       "      <td>Cloud9</td>\n",
       "      <td>1</td>\n",
       "    </tr>\n",
       "    <tr>\n",
       "      <th>2</th>\n",
       "      <td>100_Thieves</td>\n",
       "      <td>Clutch_Gaming</td>\n",
       "      <td>0</td>\n",
       "    </tr>\n",
       "    <tr>\n",
       "      <th>3</th>\n",
       "      <td>100_Thieves</td>\n",
       "      <td>Clutch_Gaming</td>\n",
       "      <td>0</td>\n",
       "    </tr>\n",
       "    <tr>\n",
       "      <th>4</th>\n",
       "      <td>100_Thieves</td>\n",
       "      <td>Counter_Logic_Gaming</td>\n",
       "      <td>0</td>\n",
       "    </tr>\n",
       "  </tbody>\n",
       "</table>\n",
       "</div>"
      ],
      "text/plain": [
       "        Team 0                Team 1  Winner\n",
       "0  100_Thieves                Cloud9       0\n",
       "1  100_Thieves                Cloud9       1\n",
       "2  100_Thieves         Clutch_Gaming       0\n",
       "3  100_Thieves         Clutch_Gaming       0\n",
       "4  100_Thieves  Counter_Logic_Gaming       0"
      ]
     },
     "execution_count": 5,
     "metadata": {},
     "output_type": "execute_result"
    }
   ],
   "source": [
    "# Since we stored the data into csv files, we can just read them in with pandas.\n",
    "matchReg = []\n",
    "matchReg.append(pd.read_csv(\"naMatchdat.csv\").drop('Unnamed: 0',axis=1))\n",
    "matchReg.append(pd.read_csv(\"EUMatchdat.csv\").drop('Unnamed: 0',axis=1))\n",
    "matchReg.append(pd.read_csv(\"LPLMatchdat.csv\").drop('Unnamed: 0',axis=1))\n",
    "matchReg.append(pd.read_csv(\"LCKMatchdat.csv\").drop('Unnamed: 0',axis=1))\n",
    "matchReg.append(pd.read_csv(\"LMSMatchdat.csv\").drop('Unnamed: 0',axis=1))\n",
    "matchReg.append(pd.read_csv(\"VCSMatchdat.csv\").drop('Unnamed: 0',axis=1))\n",
    "\n",
    "matchReg[0].head()"
   ]
  },
  {
   "cell_type": "markdown",
   "metadata": {},
   "source": [
    "So this dataframe lets us look at a head to head matchup of 2 teams in the same region. Now we will standardize this table to make our lives easier later on when doing linear regression on it."
   ]
  },
  {
   "cell_type": "code",
   "execution_count": 6,
   "metadata": {},
   "outputs": [
    {
     "data": {
      "text/html": [
       "<div>\n",
       "<style scoped>\n",
       "    .dataframe tbody tr th:only-of-type {\n",
       "        vertical-align: middle;\n",
       "    }\n",
       "\n",
       "    .dataframe tbody tr th {\n",
       "        vertical-align: top;\n",
       "    }\n",
       "\n",
       "    .dataframe thead th {\n",
       "        text-align: right;\n",
       "    }\n",
       "</style>\n",
       "<table border=\"1\" class=\"dataframe\">\n",
       "  <thead>\n",
       "    <tr style=\"text-align: right;\">\n",
       "      <th></th>\n",
       "      <th>Team 0</th>\n",
       "      <th>Team 1</th>\n",
       "      <th>Winner</th>\n",
       "    </tr>\n",
       "  </thead>\n",
       "  <tbody>\n",
       "    <tr>\n",
       "      <th>0</th>\n",
       "      <td>100_Thieves</td>\n",
       "      <td>Cloud9</td>\n",
       "      <td>100</td>\n",
       "    </tr>\n",
       "    <tr>\n",
       "      <th>1</th>\n",
       "      <td>100_Thieves</td>\n",
       "      <td>Cloud9</td>\n",
       "      <td>0</td>\n",
       "    </tr>\n",
       "    <tr>\n",
       "      <th>2</th>\n",
       "      <td>100_Thieves</td>\n",
       "      <td>Clutch_Gaming</td>\n",
       "      <td>100</td>\n",
       "    </tr>\n",
       "    <tr>\n",
       "      <th>3</th>\n",
       "      <td>100_Thieves</td>\n",
       "      <td>Clutch_Gaming</td>\n",
       "      <td>100</td>\n",
       "    </tr>\n",
       "    <tr>\n",
       "      <th>4</th>\n",
       "      <td>100_Thieves</td>\n",
       "      <td>Counter_Logic_Gaming</td>\n",
       "      <td>100</td>\n",
       "    </tr>\n",
       "  </tbody>\n",
       "</table>\n",
       "</div>"
      ],
      "text/plain": [
       "        Team 0                Team 1  Winner\n",
       "0  100_Thieves                Cloud9     100\n",
       "1  100_Thieves                Cloud9       0\n",
       "2  100_Thieves         Clutch_Gaming     100\n",
       "3  100_Thieves         Clutch_Gaming     100\n",
       "4  100_Thieves  Counter_Logic_Gaming     100"
      ]
     },
     "execution_count": 6,
     "metadata": {},
     "output_type": "execute_result"
    }
   ],
   "source": [
    "# To increase the value of our weights for linear regression, we change it to be either 0 or 100.\n",
    "# We also switch our 'Winner' value to be 100 if team 0 wins, or 0 if team 1 wins.\n",
    "for row in range(0,len(matchReg)):\n",
    "    matchReg[row]['Winner'] = matchReg[row]['Winner']*100\n",
    "    t = matchReg[row].replace(0,5)\n",
    "    t = t.replace(100,0)\n",
    "    matchReg[row] = t.replace(5,100)\n",
    "    \n",
    "# Combine each region's data into one master dataframe\n",
    "masterMatch = pd.concat(matchReg).reset_index().drop('index',axis=1)\n",
    "\n",
    "masterMatch.head()"
   ]
  },
  {
   "cell_type": "markdown",
   "metadata": {},
   "source": [
    "We also have to parse the the regular season data for each region, also dropping unnecessary data, and adding it to a dataframe called 'reg'. Then, we tidy the data more by sorting the data in the dataframe by 'Games' and 'Player.' "
   ]
  },
  {
   "cell_type": "code",
   "execution_count": 7,
   "metadata": {
    "scrolled": true
   },
   "outputs": [
    {
     "data": {
      "text/html": [
       "<div>\n",
       "<style scoped>\n",
       "    .dataframe tbody tr th:only-of-type {\n",
       "        vertical-align: middle;\n",
       "    }\n",
       "\n",
       "    .dataframe tbody tr th {\n",
       "        vertical-align: top;\n",
       "    }\n",
       "\n",
       "    .dataframe thead th {\n",
       "        text-align: right;\n",
       "    }\n",
       "</style>\n",
       "<table border=\"1\" class=\"dataframe\">\n",
       "  <thead>\n",
       "    <tr style=\"text-align: right;\">\n",
       "      <th></th>\n",
       "      <th>Team</th>\n",
       "      <th>Player</th>\n",
       "      <th>Games</th>\n",
       "      <th>Wins</th>\n",
       "      <th>Losses</th>\n",
       "      <th>Winrate</th>\n",
       "      <th>Kills</th>\n",
       "      <th>Deaths</th>\n",
       "      <th>Assists</th>\n",
       "      <th>KDA</th>\n",
       "      <th>CS</th>\n",
       "      <th>CSPM</th>\n",
       "      <th>Gold</th>\n",
       "      <th>GPM</th>\n",
       "      <th>Kill Participation</th>\n",
       "      <th>Kill Share</th>\n",
       "      <th>Gold Share</th>\n",
       "      <th>Champions Played</th>\n",
       "    </tr>\n",
       "  </thead>\n",
       "  <tbody>\n",
       "    <tr>\n",
       "      <th>6</th>\n",
       "      <td>100_Thieves</td>\n",
       "      <td>Aphromoo</td>\n",
       "      <td>20</td>\n",
       "      <td>12</td>\n",
       "      <td>8</td>\n",
       "      <td>60.0</td>\n",
       "      <td>0.90</td>\n",
       "      <td>2.75</td>\n",
       "      <td>8.45</td>\n",
       "      <td>3.40</td>\n",
       "      <td>46.75</td>\n",
       "      <td>1.26</td>\n",
       "      <td>9.25</td>\n",
       "      <td>249</td>\n",
       "      <td>68.0</td>\n",
       "      <td>6.5</td>\n",
       "      <td>13.6</td>\n",
       "      <td>7</td>\n",
       "    </tr>\n",
       "    <tr>\n",
       "      <th>8</th>\n",
       "      <td>Team_SoloMid</td>\n",
       "      <td>Bjergsen</td>\n",
       "      <td>20</td>\n",
       "      <td>11</td>\n",
       "      <td>9</td>\n",
       "      <td>55.0</td>\n",
       "      <td>3.35</td>\n",
       "      <td>1.60</td>\n",
       "      <td>4.00</td>\n",
       "      <td>4.59</td>\n",
       "      <td>336.80</td>\n",
       "      <td>9.34</td>\n",
       "      <td>14.69</td>\n",
       "      <td>407</td>\n",
       "      <td>70.7</td>\n",
       "      <td>32.2</td>\n",
       "      <td>22.4</td>\n",
       "      <td>14</td>\n",
       "    </tr>\n",
       "    <tr>\n",
       "      <th>10</th>\n",
       "      <td>100_Thieves</td>\n",
       "      <td>Cody Sun</td>\n",
       "      <td>20</td>\n",
       "      <td>12</td>\n",
       "      <td>8</td>\n",
       "      <td>60.0</td>\n",
       "      <td>4.25</td>\n",
       "      <td>1.80</td>\n",
       "      <td>5.50</td>\n",
       "      <td>5.42</td>\n",
       "      <td>382.20</td>\n",
       "      <td>10.29</td>\n",
       "      <td>16.68</td>\n",
       "      <td>449</td>\n",
       "      <td>70.9</td>\n",
       "      <td>30.9</td>\n",
       "      <td>24.6</td>\n",
       "      <td>8</td>\n",
       "    </tr>\n",
       "    <tr>\n",
       "      <th>7</th>\n",
       "      <td>Echo_Fox</td>\n",
       "      <td>Dardoch</td>\n",
       "      <td>20</td>\n",
       "      <td>11</td>\n",
       "      <td>9</td>\n",
       "      <td>55.0</td>\n",
       "      <td>2.40</td>\n",
       "      <td>3.25</td>\n",
       "      <td>6.00</td>\n",
       "      <td>2.58</td>\n",
       "      <td>179.55</td>\n",
       "      <td>5.34</td>\n",
       "      <td>11.29</td>\n",
       "      <td>335</td>\n",
       "      <td>68.9</td>\n",
       "      <td>19.7</td>\n",
       "      <td>18.7</td>\n",
       "      <td>12</td>\n",
       "    </tr>\n",
       "    <tr>\n",
       "      <th>5</th>\n",
       "      <td>FlyQuest</td>\n",
       "      <td>Flame</td>\n",
       "      <td>20</td>\n",
       "      <td>10</td>\n",
       "      <td>10</td>\n",
       "      <td>50.0</td>\n",
       "      <td>2.30</td>\n",
       "      <td>2.30</td>\n",
       "      <td>4.50</td>\n",
       "      <td>2.96</td>\n",
       "      <td>290.00</td>\n",
       "      <td>8.86</td>\n",
       "      <td>12.87</td>\n",
       "      <td>393</td>\n",
       "      <td>58.9</td>\n",
       "      <td>19.9</td>\n",
       "      <td>22.5</td>\n",
       "      <td>8</td>\n",
       "    </tr>\n",
       "  </tbody>\n",
       "</table>\n",
       "</div>"
      ],
      "text/plain": [
       "            Team    Player  Games  Wins  Losses  Winrate  Kills  Deaths  \\\n",
       "6    100_Thieves  Aphromoo     20    12       8     60.0   0.90    2.75   \n",
       "8   Team_SoloMid  Bjergsen     20    11       9     55.0   3.35    1.60   \n",
       "10   100_Thieves  Cody Sun     20    12       8     60.0   4.25    1.80   \n",
       "7       Echo_Fox   Dardoch     20    11       9     55.0   2.40    3.25   \n",
       "5       FlyQuest     Flame     20    10      10     50.0   2.30    2.30   \n",
       "\n",
       "    Assists   KDA      CS   CSPM   Gold  GPM  Kill Participation  Kill Share  \\\n",
       "6      8.45  3.40   46.75   1.26   9.25  249                68.0         6.5   \n",
       "8      4.00  4.59  336.80   9.34  14.69  407                70.7        32.2   \n",
       "10     5.50  5.42  382.20  10.29  16.68  449                70.9        30.9   \n",
       "7      6.00  2.58  179.55   5.34  11.29  335                68.9        19.7   \n",
       "5      4.50  2.96  290.00   8.86  12.87  393                58.9        19.9   \n",
       "\n",
       "    Gold Share  Champions Played  \n",
       "6         13.6                 7  \n",
       "8         22.4                14  \n",
       "10        24.6                 8  \n",
       "7         18.7                12  \n",
       "5         22.5                 8  "
      ]
     },
     "execution_count": 7,
     "metadata": {},
     "output_type": "execute_result"
    }
   ],
   "source": [
    "# Regular season data for each region\n",
    "# We also took precautions and decided to save this to a csv file once we combined all of the data together from each region.\n",
    "\n",
    "ls = []  # Contains all of the beautiful soup objects for each region's data\n",
    "reg = [] # List of all of the dataframes for each region\n",
    "\n",
    "# Parse with lxml\n",
    "ls.append(BeautifulSoup(r2.text, \"lxml\"))\n",
    "ls.append(BeautifulSoup(r3.text, \"lxml\"))\n",
    "ls.append(BeautifulSoup(r4.text, \"lxml\"))\n",
    "ls.append(BeautifulSoup(r5.text, \"lxml\"))\n",
    "ls.append(BeautifulSoup(r6.text, \"lxml\"))\n",
    "ls.append(BeautifulSoup(r7.text, \"lxml\"))\n",
    "\n",
    "j = 0\n",
    "\n",
    "# Go through each region's data\n",
    "for bs in ls:\n",
    "    \n",
    "    # split to get all the players individually\n",
    "    players = str(bs).split(\"std.png/45px\")[1:]\n",
    "\n",
    "    # Go through all of the players\n",
    "    for rowIndex in range (0,len(players)): \n",
    "        \n",
    "        # Split on each column of the table\n",
    "        players[rowIndex] = players[rowIndex].split(\"</td>\")\n",
    "\n",
    "        # Get the player's name\n",
    "        players[rowIndex][1] = players[rowIndex][1].split(\"title=\\\"\")[1].split(\"\\\"\")[0]\n",
    "\n",
    "        # Get the team name\n",
    "        players[rowIndex][0] = players[rowIndex][0][1:].split(\"_std.png\")[0][:-4]\n",
    "\n",
    "        # Get the data for the rest of the columns in the table\n",
    "        for y in range (2,17): \n",
    "            players[rowIndex][y] = players[rowIndex][y].split(\"center\\\">\")[1].split('\\n')[0]\n",
    "            \n",
    "        # Removes all of the unnecessary information in the line to get the champions played number\n",
    "        players[rowIndex][17] = players[rowIndex][17][-18:-16]\n",
    "\n",
    "    # Convert into data frame and append to our list\n",
    "    reg.append(pd.DataFrame(np.array(players).reshape(len(players),len(players[0])), columns = ['Team','Player','Games','Wins','Losses','Winrate','Kills','Deaths','Assists','KDA','CS','CSPM','Gold','GPM','Kill Participation','Kill Share','Gold Share','Champions Played','19','20']))\n",
    "\n",
    "    # Drop unnecessary columns\n",
    "    reg[j] = reg[j].drop(['19','20'],axis=1)\n",
    "    \n",
    "    # Parse what we have to get just the numbers and remove all extraneous characters\n",
    "    reg[j]['Games'] = reg[j]['Games'].str.extract('(\\d+)', expand=False)\n",
    "    reg[j]['Champions Played'] = reg[j]['Champions Played'].str.extract('(\\d+)', expand=False)\n",
    "    reg[j]['Gold'] = reg[j]['Gold'].str[:-1]\n",
    "    reg[j]['Gold Share'] = reg[j]['Gold Share'].str[:-1]\n",
    "    reg[j]['Kill Participation'] = reg[j]['Kill Participation'].str[:-1]\n",
    "    reg[j]['Kill Share'] = reg[j]['Kill Share'].str[:-1]\n",
    "        \n",
    "    j = j+1\n",
    "\n",
    "# reg contains regular season data by region\n",
    "# reg[0] --> North America (NA)\n",
    "# reg[1] --> Europe (EU)\n",
    "# reg[2] --> China (LPL)\n",
    "# reg[3] --> Korea (LCK)\n",
    "# reg[4] --> Taiwan (LMS)\n",
    "# reg[5] --> Vietnam (VCS)\n",
    "\n",
    "# Convert data into numeric form for each table\n",
    "for table in reg: \n",
    "    k=0\n",
    "    for col in table.columns:\n",
    "        if k>1 and k<18: # Only convert on these specific columns\n",
    "            table[col] = pd.to_numeric(table[col])\n",
    "        k=k+1\n",
    "        \n",
    "# Sort the tables based on 'Games' and 'Player' to standardize the view\n",
    "reg[0] = reg[0].sort_values(['Games','Player'],ascending=[False,True])\n",
    "reg[1] = reg[1].sort_values(['Games','Player'],ascending=[False,True])\n",
    "reg[2] = reg[2].sort_values(['Games','Player'],ascending=[False,True])\n",
    "reg[3] = reg[3].sort_values(['Games','Player'],ascending=[False,True])\n",
    "reg[4] = reg[4].sort_values(['Games','Player'],ascending=[False,True])\n",
    "reg[5] = reg[5].sort_values(['Games','Player'],ascending=[False,True])\n",
    "\n",
    "reg[0].head()"
   ]
  },
  {
   "cell_type": "markdown",
   "metadata": {},
   "source": [
    "Lastly, because we plan to investigate how a player's position affects the winning heuristic, we needed to assign the data of position to each player. Unfortunately, the data read in didn't track positions, and no single table available had this data, so instead of downloading and pasing 30 separate tables for a single column, we hardcoded in the player's position. The resulting table below shows the player's position in the right-most column.\n",
    "\n",
    "There are five possible positions: Top, JG (jungler), Mid (Mid-Lane), ADC (Marksman/AD Carry), or Supp (Support). Each position is responsible for doing performing different roles during the game, but you can learn about the role of each position [here.](https://www.lol-smurfs.com/blog/lol-roles-explained/)"
   ]
  },
  {
   "cell_type": "code",
   "execution_count": 8,
   "metadata": {},
   "outputs": [
    {
     "data": {
      "text/html": [
       "<div>\n",
       "<style scoped>\n",
       "    .dataframe tbody tr th:only-of-type {\n",
       "        vertical-align: middle;\n",
       "    }\n",
       "\n",
       "    .dataframe tbody tr th {\n",
       "        vertical-align: top;\n",
       "    }\n",
       "\n",
       "    .dataframe thead th {\n",
       "        text-align: right;\n",
       "    }\n",
       "</style>\n",
       "<table border=\"1\" class=\"dataframe\">\n",
       "  <thead>\n",
       "    <tr style=\"text-align: right;\">\n",
       "      <th></th>\n",
       "      <th>Team</th>\n",
       "      <th>Player</th>\n",
       "      <th>Games</th>\n",
       "      <th>Wins</th>\n",
       "      <th>Losses</th>\n",
       "      <th>Winrate</th>\n",
       "      <th>Kills</th>\n",
       "      <th>Deaths</th>\n",
       "      <th>Assists</th>\n",
       "      <th>KDA</th>\n",
       "      <th>CS</th>\n",
       "      <th>CSPM</th>\n",
       "      <th>Gold</th>\n",
       "      <th>GPM</th>\n",
       "      <th>Kill Participation</th>\n",
       "      <th>Kill Share</th>\n",
       "      <th>Gold Share</th>\n",
       "      <th>Champions Played</th>\n",
       "      <th>Position</th>\n",
       "    </tr>\n",
       "  </thead>\n",
       "  <tbody>\n",
       "    <tr>\n",
       "      <th>6</th>\n",
       "      <td>100_Thieves</td>\n",
       "      <td>Aphromoo</td>\n",
       "      <td>20</td>\n",
       "      <td>12</td>\n",
       "      <td>8</td>\n",
       "      <td>60.0</td>\n",
       "      <td>0.90</td>\n",
       "      <td>2.75</td>\n",
       "      <td>8.45</td>\n",
       "      <td>3.40</td>\n",
       "      <td>46.75</td>\n",
       "      <td>1.26</td>\n",
       "      <td>9.25</td>\n",
       "      <td>249</td>\n",
       "      <td>68.0</td>\n",
       "      <td>6.5</td>\n",
       "      <td>13.6</td>\n",
       "      <td>7</td>\n",
       "      <td>Supp</td>\n",
       "    </tr>\n",
       "    <tr>\n",
       "      <th>8</th>\n",
       "      <td>Team_SoloMid</td>\n",
       "      <td>Bjergsen</td>\n",
       "      <td>20</td>\n",
       "      <td>11</td>\n",
       "      <td>9</td>\n",
       "      <td>55.0</td>\n",
       "      <td>3.35</td>\n",
       "      <td>1.60</td>\n",
       "      <td>4.00</td>\n",
       "      <td>4.59</td>\n",
       "      <td>336.80</td>\n",
       "      <td>9.34</td>\n",
       "      <td>14.69</td>\n",
       "      <td>407</td>\n",
       "      <td>70.7</td>\n",
       "      <td>32.2</td>\n",
       "      <td>22.4</td>\n",
       "      <td>14</td>\n",
       "      <td>Mid</td>\n",
       "    </tr>\n",
       "    <tr>\n",
       "      <th>10</th>\n",
       "      <td>100_Thieves</td>\n",
       "      <td>Cody Sun</td>\n",
       "      <td>20</td>\n",
       "      <td>12</td>\n",
       "      <td>8</td>\n",
       "      <td>60.0</td>\n",
       "      <td>4.25</td>\n",
       "      <td>1.80</td>\n",
       "      <td>5.50</td>\n",
       "      <td>5.42</td>\n",
       "      <td>382.20</td>\n",
       "      <td>10.29</td>\n",
       "      <td>16.68</td>\n",
       "      <td>449</td>\n",
       "      <td>70.9</td>\n",
       "      <td>30.9</td>\n",
       "      <td>24.6</td>\n",
       "      <td>8</td>\n",
       "      <td>ADC</td>\n",
       "    </tr>\n",
       "    <tr>\n",
       "      <th>7</th>\n",
       "      <td>Echo_Fox</td>\n",
       "      <td>Dardoch</td>\n",
       "      <td>20</td>\n",
       "      <td>11</td>\n",
       "      <td>9</td>\n",
       "      <td>55.0</td>\n",
       "      <td>2.40</td>\n",
       "      <td>3.25</td>\n",
       "      <td>6.00</td>\n",
       "      <td>2.58</td>\n",
       "      <td>179.55</td>\n",
       "      <td>5.34</td>\n",
       "      <td>11.29</td>\n",
       "      <td>335</td>\n",
       "      <td>68.9</td>\n",
       "      <td>19.7</td>\n",
       "      <td>18.7</td>\n",
       "      <td>12</td>\n",
       "      <td>JG</td>\n",
       "    </tr>\n",
       "    <tr>\n",
       "      <th>5</th>\n",
       "      <td>FlyQuest</td>\n",
       "      <td>Flame</td>\n",
       "      <td>20</td>\n",
       "      <td>10</td>\n",
       "      <td>10</td>\n",
       "      <td>50.0</td>\n",
       "      <td>2.30</td>\n",
       "      <td>2.30</td>\n",
       "      <td>4.50</td>\n",
       "      <td>2.96</td>\n",
       "      <td>290.00</td>\n",
       "      <td>8.86</td>\n",
       "      <td>12.87</td>\n",
       "      <td>393</td>\n",
       "      <td>58.9</td>\n",
       "      <td>19.9</td>\n",
       "      <td>22.5</td>\n",
       "      <td>8</td>\n",
       "      <td>Top</td>\n",
       "    </tr>\n",
       "  </tbody>\n",
       "</table>\n",
       "</div>"
      ],
      "text/plain": [
       "            Team    Player  Games  Wins  Losses  Winrate  Kills  Deaths  \\\n",
       "6    100_Thieves  Aphromoo     20    12       8     60.0   0.90    2.75   \n",
       "8   Team_SoloMid  Bjergsen     20    11       9     55.0   3.35    1.60   \n",
       "10   100_Thieves  Cody Sun     20    12       8     60.0   4.25    1.80   \n",
       "7       Echo_Fox   Dardoch     20    11       9     55.0   2.40    3.25   \n",
       "5       FlyQuest     Flame     20    10      10     50.0   2.30    2.30   \n",
       "\n",
       "    Assists   KDA      CS   CSPM   Gold  GPM  Kill Participation  Kill Share  \\\n",
       "6      8.45  3.40   46.75   1.26   9.25  249                68.0         6.5   \n",
       "8      4.00  4.59  336.80   9.34  14.69  407                70.7        32.2   \n",
       "10     5.50  5.42  382.20  10.29  16.68  449                70.9        30.9   \n",
       "7      6.00  2.58  179.55   5.34  11.29  335                68.9        19.7   \n",
       "5      4.50  2.96  290.00   8.86  12.87  393                58.9        19.9   \n",
       "\n",
       "    Gold Share  Champions Played Position  \n",
       "6         13.6                 7     Supp  \n",
       "8         22.4                14      Mid  \n",
       "10        24.6                 8      ADC  \n",
       "7         18.7                12       JG  \n",
       "5         22.5                 8      Top  "
      ]
     },
     "execution_count": 8,
     "metadata": {},
     "output_type": "execute_result"
    }
   ],
   "source": [
    "pos = ['Supp', 'Mid', 'ADC', 'JG', 'Top', 'JG', 'Top', 'Top', 'Mid',\n",
    "       'Supp', 'Mid', 'JG', 'Top', 'ADC', 'ADC', 'ADC', 'Supp', 'Supp',\n",
    "       'JG', 'ADC', 'ADC', 'Mid', 'Mid', 'Top', 'Top', 'Top', 'Supp',\n",
    "       'Supp', 'Mid', 'Mid', 'Top', 'ADC', 'JG', 'Top', 'JG', 'ADC',\n",
    "       'Supp', 'Supp', 'JG', 'Mid', 'JG', 'Supp', 'JG', 'Mid', 'Top',\n",
    "       'Mid', 'Supp', 'ADC', 'ADC', 'ADC', 'JG', 'JG', 'Supp', 'Mid',\n",
    "       'Mid', 'JG', 'Top', 'ADC', 'Supp', 'Supp', 'Mid', 'JG', 'JG', 'ADC',\n",
    "       'Supp', 'JG', 'Top']\n",
    "reg[0]['Position'] = pos\n",
    "\n",
    "pos1 = ['JG', 'ADC', 'Top', 'ADC', 'Supp', 'JG', 'Mid', 'Mid', 'Mid', 'ADC',\n",
    "       'Supp', 'Top', 'Supp', 'Top', 'Top', 'Mid', 'Mid', 'JG', 'Mid',\n",
    "       'JG', 'Mid', 'ADC', 'ADC', 'Supp', 'Supp', 'ADC', 'JG', 'JG', 'JG',\n",
    "       'Mid', 'Supp', 'Top', 'Top', 'Supp', 'Top', 'Mid', 'Supp', 'Top',\n",
    "       'ADC', 'Supp', 'Top', 'JG', 'ADC', 'ADC', 'Supp', 'Top', 'Mid',\n",
    "       'JG', 'JG', 'JG', 'ADC', 'JG', 'ADC', 'ADC', 'Supp', 'Mid']\n",
    "reg[1]['Position'] = pos1\n",
    "\n",
    "pos2 = ['JG','ADC','Supp','Mid','Top','JG','Mid','Top','Top','Supp','ADC',\n",
    "        'Supp','Mid','Supp','Top','ADC','JG','JG','Mid','Supp','Mid','Supp',\n",
    "        'Top','Mid','ADC','Supp','ADC','Supp','Top','Mid','ADC','Top','ADC',\n",
    "        'JG','Supp','Top','Supp','Mid','ADC','Supp','Top','Mid','Top','JG',\n",
    "        'Supp','ADC','JG','Mid','Top','JG','ADC','JG','JG','Supp','Top','ADC',\n",
    "        'Mid','JG','Top','Mid','JG','ADC','ADC','Mid','ADC','Mid','JG','Supp',\n",
    "        'Top','JG','Top','Mid','JG','Top','Mid','JG','Top','ADC','ADC','JG',\n",
    "        'ADC','JG','Mid','JG','Supp','JG','ADC','Mid','Supp','ADC','Top','JG',\n",
    "        'JG','Top','ADC','Mid','ADC','ADC','JG','Supp','Mid','Supp']\n",
    "reg[2]['Position'] = pos2\n",
    "\n",
    "pos3 = ['Top', 'Mid', 'Supp', 'Supp', 'Mid', 'Top', 'Supp', 'ADC', 'JG',\n",
    "       'Top', 'ADC', 'Supp', 'Mid', 'ADC', 'Top', 'Mid', 'Top', 'Top',\n",
    "       'ADC', 'Supp', 'Supp', 'Supp', 'ADC', 'Mid', 'Top', 'Mid', 'ADC',\n",
    "       'Mid', 'Mid', 'Supp', 'Top', 'JG', 'JG', 'ADC', 'JG', 'Top', 'JG',\n",
    "       'ADC', 'Supp', 'ADC', 'Top', 'Supp', 'JG', 'JG', 'JG', 'ADC', 'Mid',\n",
    "       'JG', 'JG', 'Mid', 'Mid', 'JG', 'JG', 'ADC', 'JG', 'Supp', 'Mid',\n",
    "       'JG', 'JG', 'Supp', 'JG', 'ADC', 'ADC', 'JG', 'Mid', 'ADC', 'Supp',\n",
    "       'Top', 'ADC', 'Top', 'Top']\n",
    "reg[3]['Position'] = pos3\n",
    "\n",
    "pos4 = ['Supp', 'Top', 'JG', 'Mid', 'Top', 'Supp', 'ADC', 'Mid', 'ADC',\n",
    "       'Top', 'JG', 'Supp', 'Supp', 'JG', 'Mid', 'ADC', 'Supp', 'ADC',\n",
    "       'Supp', 'ADC', 'Mid', 'Top', 'ADC', 'Mid', 'JG', 'Mid', 'Top',\n",
    "       'ADC', 'Supp', 'Supp', 'Top', 'ADC', 'Top', 'JG', 'Mid', 'Mid',\n",
    "       'JG', 'JG', 'ADC', 'Top', 'JG', 'Top', 'ADC', 'JG', 'JG', 'Mid',\n",
    "       'Top', 'JG', 'JG', 'JG', 'Top', 'ADC', 'Top', 'Supp', 'JG', 'Supp',\n",
    "       'Supp', 'Supp', 'JG', 'JG']\n",
    "reg[4]['Position'] = pos4\n",
    "\n",
    "pos5 = ['ADC', 'Mid', 'Supp', 'Top', 'ADC', 'Top', 'JG', 'Mid', 'Supp',\n",
    "       'ADC', 'JG', 'Top', 'Mid', 'Mid', 'JG', 'Mid', 'ADC', 'Top', 'Supp',\n",
    "       'Mid', 'Top', 'JG', 'Top', 'ADC', 'Supp', 'ADC', 'JG', 'ADC',\n",
    "       'Supp', 'JG', 'Supp', 'JG', 'Supp', 'Top', 'Mid', 'ADC', 'ADC',\n",
    "       'JG', 'Supp', 'Mid', 'Top', 'JG', 'Supp', 'Mid', 'Top', 'Top',\n",
    "       'Supp', 'Mid', 'JG', 'ADC', 'Supp', 'Supp', 'Supp', 'Mid', 'JG',\n",
    "       'Supp', 'JG', 'Top', 'JG', 'Mid']\n",
    "reg[5]['Position'] = pos5\n",
    "\n",
    "reg[0].head()"
   ]
  },
  {
   "cell_type": "markdown",
   "metadata": {},
   "source": [
    "Now that we have all the position data for our players stored, we combine our tables and save it into a csv file so we don't have to parse the data every time."
   ]
  },
  {
   "cell_type": "code",
   "execution_count": 9,
   "metadata": {},
   "outputs": [
    {
     "data": {
      "text/html": [
       "<div>\n",
       "<style scoped>\n",
       "    .dataframe tbody tr th:only-of-type {\n",
       "        vertical-align: middle;\n",
       "    }\n",
       "\n",
       "    .dataframe tbody tr th {\n",
       "        vertical-align: top;\n",
       "    }\n",
       "\n",
       "    .dataframe thead th {\n",
       "        text-align: right;\n",
       "    }\n",
       "</style>\n",
       "<table border=\"1\" class=\"dataframe\">\n",
       "  <thead>\n",
       "    <tr style=\"text-align: right;\">\n",
       "      <th></th>\n",
       "      <th>Team</th>\n",
       "      <th>Player</th>\n",
       "      <th>Games</th>\n",
       "      <th>Wins</th>\n",
       "      <th>Losses</th>\n",
       "      <th>Winrate</th>\n",
       "      <th>Kills</th>\n",
       "      <th>Deaths</th>\n",
       "      <th>Assists</th>\n",
       "      <th>KDA</th>\n",
       "      <th>CS</th>\n",
       "      <th>CSPM</th>\n",
       "      <th>Gold</th>\n",
       "      <th>GPM</th>\n",
       "      <th>Kill Participation</th>\n",
       "      <th>Kill Share</th>\n",
       "      <th>Gold Share</th>\n",
       "      <th>Champions Played</th>\n",
       "      <th>Position</th>\n",
       "    </tr>\n",
       "  </thead>\n",
       "  <tbody>\n",
       "    <tr>\n",
       "      <th>0</th>\n",
       "      <td>JD_Gaming</td>\n",
       "      <td>Clid</td>\n",
       "      <td>50</td>\n",
       "      <td>30</td>\n",
       "      <td>20</td>\n",
       "      <td>60.0</td>\n",
       "      <td>2.40</td>\n",
       "      <td>2.44</td>\n",
       "      <td>6.46</td>\n",
       "      <td>3.63</td>\n",
       "      <td>173.30</td>\n",
       "      <td>5.20</td>\n",
       "      <td>11.18</td>\n",
       "      <td>336</td>\n",
       "      <td>69.1</td>\n",
       "      <td>18.7</td>\n",
       "      <td>18.5</td>\n",
       "      <td>14</td>\n",
       "      <td>JG</td>\n",
       "    </tr>\n",
       "    <tr>\n",
       "      <th>1</th>\n",
       "      <td>JD_Gaming</td>\n",
       "      <td>LokeN</td>\n",
       "      <td>50</td>\n",
       "      <td>30</td>\n",
       "      <td>20</td>\n",
       "      <td>60.0</td>\n",
       "      <td>3.68</td>\n",
       "      <td>1.52</td>\n",
       "      <td>5.40</td>\n",
       "      <td>5.97</td>\n",
       "      <td>322.52</td>\n",
       "      <td>9.68</td>\n",
       "      <td>14.33</td>\n",
       "      <td>430</td>\n",
       "      <td>70.8</td>\n",
       "      <td>28.7</td>\n",
       "      <td>23.7</td>\n",
       "      <td>12</td>\n",
       "      <td>ADC</td>\n",
       "    </tr>\n",
       "    <tr>\n",
       "      <th>2</th>\n",
       "      <td>JD_Gaming</td>\n",
       "      <td>LvMao</td>\n",
       "      <td>50</td>\n",
       "      <td>30</td>\n",
       "      <td>20</td>\n",
       "      <td>60.0</td>\n",
       "      <td>0.76</td>\n",
       "      <td>2.68</td>\n",
       "      <td>8.14</td>\n",
       "      <td>3.32</td>\n",
       "      <td>42.34</td>\n",
       "      <td>1.27</td>\n",
       "      <td>8.13</td>\n",
       "      <td>244</td>\n",
       "      <td>69.4</td>\n",
       "      <td>5.9</td>\n",
       "      <td>13.4</td>\n",
       "      <td>11</td>\n",
       "      <td>Supp</td>\n",
       "    </tr>\n",
       "    <tr>\n",
       "      <th>3</th>\n",
       "      <td>JD_Gaming</td>\n",
       "      <td>YaGao</td>\n",
       "      <td>50</td>\n",
       "      <td>30</td>\n",
       "      <td>20</td>\n",
       "      <td>60.0</td>\n",
       "      <td>3.38</td>\n",
       "      <td>2.44</td>\n",
       "      <td>5.40</td>\n",
       "      <td>3.60</td>\n",
       "      <td>277.38</td>\n",
       "      <td>8.33</td>\n",
       "      <td>12.93</td>\n",
       "      <td>388</td>\n",
       "      <td>68.5</td>\n",
       "      <td>26.4</td>\n",
       "      <td>21.4</td>\n",
       "      <td>14</td>\n",
       "      <td>Mid</td>\n",
       "    </tr>\n",
       "    <tr>\n",
       "      <th>4</th>\n",
       "      <td>JD_Gaming</td>\n",
       "      <td>Zoom</td>\n",
       "      <td>50</td>\n",
       "      <td>30</td>\n",
       "      <td>20</td>\n",
       "      <td>60.0</td>\n",
       "      <td>2.60</td>\n",
       "      <td>2.00</td>\n",
       "      <td>5.56</td>\n",
       "      <td>4.08</td>\n",
       "      <td>299.90</td>\n",
       "      <td>9.00</td>\n",
       "      <td>13.72</td>\n",
       "      <td>412</td>\n",
       "      <td>63.7</td>\n",
       "      <td>20.3</td>\n",
       "      <td>22.7</td>\n",
       "      <td>12</td>\n",
       "      <td>Top</td>\n",
       "    </tr>\n",
       "  </tbody>\n",
       "</table>\n",
       "</div>"
      ],
      "text/plain": [
       "        Team Player  Games  Wins  Losses  Winrate  Kills  Deaths  Assists  \\\n",
       "0  JD_Gaming   Clid     50    30      20     60.0   2.40    2.44     6.46   \n",
       "1  JD_Gaming  LokeN     50    30      20     60.0   3.68    1.52     5.40   \n",
       "2  JD_Gaming  LvMao     50    30      20     60.0   0.76    2.68     8.14   \n",
       "3  JD_Gaming  YaGao     50    30      20     60.0   3.38    2.44     5.40   \n",
       "4  JD_Gaming   Zoom     50    30      20     60.0   2.60    2.00     5.56   \n",
       "\n",
       "    KDA      CS  CSPM   Gold  GPM  Kill Participation  Kill Share  Gold Share  \\\n",
       "0  3.63  173.30  5.20  11.18  336                69.1        18.7        18.5   \n",
       "1  5.97  322.52  9.68  14.33  430                70.8        28.7        23.7   \n",
       "2  3.32   42.34  1.27   8.13  244                69.4         5.9        13.4   \n",
       "3  3.60  277.38  8.33  12.93  388                68.5        26.4        21.4   \n",
       "4  4.08  299.90  9.00  13.72  412                63.7        20.3        22.7   \n",
       "\n",
       "   Champions Played Position  \n",
       "0                14       JG  \n",
       "1                12      ADC  \n",
       "2                11     Supp  \n",
       "3                14      Mid  \n",
       "4                12      Top  "
      ]
     },
     "execution_count": 9,
     "metadata": {},
     "output_type": "execute_result"
    }
   ],
   "source": [
    "# Combine regular season player data from each region into a master table\n",
    "masterReg = pd.concat(reg).sort_values(['Games','Player'],ascending=[False,True]).reset_index().drop('index',axis=1)\n",
    "\n",
    "# masterReg.to_csv('masterReg.csv')  # Save the data for use later on so we don't have to parse every time.\n",
    "\n",
    "# Read in the table since we saved it already.\n",
    "masterReg = pd.read_csv(\"masterReg.csv\").drop(\"Unnamed: 0\",axis=1)\n",
    "\n",
    "masterReg.head()"
   ]
  },
  {
   "cell_type": "markdown",
   "metadata": {},
   "source": [
    "Lastly, we get the champion data from Worlds. Like the previous dataframes, the parsed data is being put into a dataframe called 'champs', using only the columns needed."
   ]
  },
  {
   "cell_type": "code",
   "execution_count": 10,
   "metadata": {},
   "outputs": [
    {
     "data": {
      "text/html": [
       "<div>\n",
       "<style scoped>\n",
       "    .dataframe tbody tr th:only-of-type {\n",
       "        vertical-align: middle;\n",
       "    }\n",
       "\n",
       "    .dataframe tbody tr th {\n",
       "        vertical-align: top;\n",
       "    }\n",
       "\n",
       "    .dataframe thead th {\n",
       "        text-align: right;\n",
       "    }\n",
       "</style>\n",
       "<table border=\"1\" class=\"dataframe\">\n",
       "  <thead>\n",
       "    <tr style=\"text-align: right;\">\n",
       "      <th></th>\n",
       "      <th>Champion</th>\n",
       "      <th>Bans</th>\n",
       "      <th>Games</th>\n",
       "      <th>Wins</th>\n",
       "      <th>Losses</th>\n",
       "      <th>Winrate</th>\n",
       "      <th>PB</th>\n",
       "      <th>By</th>\n",
       "      <th>Kills</th>\n",
       "      <th>Deaths</th>\n",
       "      <th>Assists</th>\n",
       "      <th>KDA</th>\n",
       "      <th>CS</th>\n",
       "      <th>CSPM</th>\n",
       "      <th>Gold</th>\n",
       "      <th>GPM</th>\n",
       "      <th>Kill Participation</th>\n",
       "      <th>Kill Share</th>\n",
       "      <th>Gold Share</th>\n",
       "    </tr>\n",
       "  </thead>\n",
       "  <tbody>\n",
       "    <tr>\n",
       "      <th>0</th>\n",
       "      <td>Aatrox</td>\n",
       "      <td>45</td>\n",
       "      <td>31</td>\n",
       "      <td>17</td>\n",
       "      <td>14</td>\n",
       "      <td>54.8</td>\n",
       "      <td>98.7</td>\n",
       "      <td>17</td>\n",
       "      <td>2.10</td>\n",
       "      <td>2.48</td>\n",
       "      <td>4.42</td>\n",
       "      <td>2.62</td>\n",
       "      <td>285.19</td>\n",
       "      <td>9.03</td>\n",
       "      <td>12.31</td>\n",
       "      <td>390.0</td>\n",
       "      <td>52.1</td>\n",
       "      <td>16.8</td>\n",
       "      <td>21.6</td>\n",
       "    </tr>\n",
       "    <tr>\n",
       "      <th>1</th>\n",
       "      <td>Alistar</td>\n",
       "      <td>47</td>\n",
       "      <td>28</td>\n",
       "      <td>15</td>\n",
       "      <td>13</td>\n",
       "      <td>53.6</td>\n",
       "      <td>97.4</td>\n",
       "      <td>12</td>\n",
       "      <td>0.50</td>\n",
       "      <td>2.18</td>\n",
       "      <td>6.32</td>\n",
       "      <td>3.13</td>\n",
       "      <td>48.36</td>\n",
       "      <td>1.52</td>\n",
       "      <td>7.36</td>\n",
       "      <td>232.0</td>\n",
       "      <td>65.0</td>\n",
       "      <td>4.8</td>\n",
       "      <td>13.1</td>\n",
       "    </tr>\n",
       "    <tr>\n",
       "      <th>2</th>\n",
       "      <td>Urgot</td>\n",
       "      <td>45</td>\n",
       "      <td>28</td>\n",
       "      <td>13</td>\n",
       "      <td>15</td>\n",
       "      <td>46.4</td>\n",
       "      <td>94.8</td>\n",
       "      <td>17</td>\n",
       "      <td>2.64</td>\n",
       "      <td>2.64</td>\n",
       "      <td>3.75</td>\n",
       "      <td>2.42</td>\n",
       "      <td>265.96</td>\n",
       "      <td>8.21</td>\n",
       "      <td>12.14</td>\n",
       "      <td>375.0</td>\n",
       "      <td>63.5</td>\n",
       "      <td>26.2</td>\n",
       "      <td>21.7</td>\n",
       "    </tr>\n",
       "    <tr>\n",
       "      <th>3</th>\n",
       "      <td>Irelia</td>\n",
       "      <td>40</td>\n",
       "      <td>24</td>\n",
       "      <td>14</td>\n",
       "      <td>10</td>\n",
       "      <td>58.3</td>\n",
       "      <td>83.1</td>\n",
       "      <td>13</td>\n",
       "      <td>3.63</td>\n",
       "      <td>2.96</td>\n",
       "      <td>4.42</td>\n",
       "      <td>2.72</td>\n",
       "      <td>283.96</td>\n",
       "      <td>9.31</td>\n",
       "      <td>12.72</td>\n",
       "      <td>417.0</td>\n",
       "      <td>65.0</td>\n",
       "      <td>29.3</td>\n",
       "      <td>22.9</td>\n",
       "    </tr>\n",
       "    <tr>\n",
       "      <th>4</th>\n",
       "      <td>Kai'Sa</td>\n",
       "      <td>19</td>\n",
       "      <td>43</td>\n",
       "      <td>21</td>\n",
       "      <td>22</td>\n",
       "      <td>48.8</td>\n",
       "      <td>80.5</td>\n",
       "      <td>15</td>\n",
       "      <td>3.88</td>\n",
       "      <td>1.84</td>\n",
       "      <td>4.09</td>\n",
       "      <td>4.34</td>\n",
       "      <td>324.49</td>\n",
       "      <td>10.17</td>\n",
       "      <td>13.94</td>\n",
       "      <td>437.0</td>\n",
       "      <td>72.4</td>\n",
       "      <td>35.2</td>\n",
       "      <td>24.8</td>\n",
       "    </tr>\n",
       "  </tbody>\n",
       "</table>\n",
       "</div>"
      ],
      "text/plain": [
       "  Champion  Bans  Games  Wins  Losses  Winrate    PB  By  Kills  Deaths  \\\n",
       "0   Aatrox    45     31    17      14     54.8  98.7  17   2.10    2.48   \n",
       "1  Alistar    47     28    15      13     53.6  97.4  12   0.50    2.18   \n",
       "2    Urgot    45     28    13      15     46.4  94.8  17   2.64    2.64   \n",
       "3   Irelia    40     24    14      10     58.3  83.1  13   3.63    2.96   \n",
       "4   Kai'Sa    19     43    21      22     48.8  80.5  15   3.88    1.84   \n",
       "\n",
       "   Assists   KDA      CS   CSPM   Gold    GPM  Kill Participation  Kill Share  \\\n",
       "0     4.42  2.62  285.19   9.03  12.31  390.0                52.1        16.8   \n",
       "1     6.32  3.13   48.36   1.52   7.36  232.0                65.0         4.8   \n",
       "2     3.75  2.42  265.96   8.21  12.14  375.0                63.5        26.2   \n",
       "3     4.42  2.72  283.96   9.31  12.72  417.0                65.0        29.3   \n",
       "4     4.09  4.34  324.49  10.17  13.94  437.0                72.4        35.2   \n",
       "\n",
       "   Gold Share  \n",
       "0        21.6  \n",
       "1        13.1  \n",
       "2        21.7  \n",
       "3        22.9  \n",
       "4        24.8  "
      ]
     },
     "execution_count": 10,
     "metadata": {},
     "output_type": "execute_result"
    }
   ],
   "source": [
    "# Champion data from worlds\n",
    "\n",
    "# Parse with lxml\n",
    "bs = BeautifulSoup(r8.text, \"lxml\")\n",
    "\n",
    "# split to get all champions individually\n",
    "tmp = str(bs).split(\"Square.png/40px\")[1:]\n",
    "\n",
    "# Go through each champion\n",
    "for rowIndex in range (0,len(tmp)): \n",
    "    \n",
    "    # Split each column\n",
    "    tmp[rowIndex] = tmp[rowIndex].split(\"</td>\")\n",
    "    \n",
    "    # Get the Champion's name\n",
    "    tmp[rowIndex][0] = tmp[rowIndex][0].split(\"title=\\\"\")[1].split(\"\\\"\")[0]\n",
    "    \n",
    "    # Get data for the other columns\n",
    "    for colIndex in range (1,19): \n",
    "        if y==5 or y==6:  # These columns are bolded, so we have to parse them differently\n",
    "            tmp[rowIndex][colIndex] = tmp[rowIndex][colIndex].split(\"</b>\")[0]\n",
    "        if y != 7: # Normal parsing rules for all columns except the 7th\n",
    "            tmp[rowIndex][colIndex] = tmp[rowIndex][colIndex].split(\"center\\\">\")[1].split(\"\\n\")[0]\n",
    "    \n",
    "    # Parse differently for the 7th column\n",
    "    t = tmp[rowIndex][7].split(\"_blank\\\">\") \n",
    "    \n",
    "    # Since this column contains a hyperlink, we have to parse it differently.\n",
    "    # We assign it a value of 0 if the data is null in the table\n",
    "    tmp[rowIndex][7] = 0 if len(t)==1 else t[1][:2]\n",
    "\n",
    "# Convert into data frame with appropriate columns\n",
    "champs = pd.DataFrame(np.array(tmp).reshape(len(tmp),len(tmp[0])), columns = ['Champion','Bans','Games','Wins','Losses','Winrate','PB','By','Kills','Deaths','Assists','KDA','CS','CSPM','Gold','GPM','Kill Participation','Kill Share','Gold Share', '20'])\n",
    "\n",
    "# Drop unnecessary columns\n",
    "champs = champs.drop('20',axis=1)\n",
    "\n",
    "# Cut off extraneous characters\n",
    "champs['By'] = champs['By'].str.extract('(\\d+)', expand=False)\n",
    "champs['Gold'] = champs['Gold'].str[:-1]\n",
    "champs['Kill Participation'] = champs['Kill Participation'].str[:-1]\n",
    "champs['Kill Share'] = champs['Kill Share'].str[:-1]\n",
    "champs['Gold Share'] = champs['Gold Share'].str[:-1]\n",
    "champs['Winrate'] = champs['Winrate'].str[3:]\n",
    "champs['PB'] = champs['PB'].str[3:]\n",
    "\n",
    "# Making data NaN for champs banned, but not played.\n",
    "pat = re.compile('-1')\n",
    "for col in champs.columns:\n",
    "    champs[col] = champs[col].replace(pat, np.nan)\n",
    "\n",
    "# Save the data as a csv so we don't have to parse it every time.\n",
    "#champs.to_csv(\"champs.csv\")\n",
    "\n",
    "champs = pd.read_csv(\"champs.csv\").drop(\"Unnamed: 0\",axis=1)\n",
    "\n",
    "champs.head()"
   ]
  },
  {
   "cell_type": "markdown",
   "metadata": {},
   "source": [
    "<h3> Analyzing Champion Data </h3>\n",
    "\n",
    "Now that all our data is ready, we can start analyzing champion data to see if we can predict win rate with champion statistics like KDA (Kill Death Assist Ratio). League of Legends also allows players to ban certain champions at the start of every game. It would be interesting to see if we can predict whether a champion will be banned with the same champion statistics, so we will analyze that as well.\n",
    "\n",
    "Let's start with analyzing the ban rate. First let's pick some of the most important statistics in our data, and perform a T-test between each statistic and the ban rate and see if there is a possible linear relationship. We will also plot the points on a chart to verify if a linear relationship exists or not.\n",
    "\n",
    "First we will convert our champs data to float format to help with the T-tests. We will start analyzing statistics with KDA. KDA is measured as $\\frac{Kills + \\frac{Assists}{3}}{Deaths}$ so it rewards kills and assists with the appropriate weights. It is recognized as a relatively good indicator of how well a player does in the game, so we would expect a champion that typically gets a high KDA to be banned a lot, as the high KDA means the champion is likely to do well."
   ]
  },
  {
   "cell_type": "code",
   "execution_count": 11,
   "metadata": {},
   "outputs": [
    {
     "data": {
      "text/plain": [
       "'P Value from T-test for KDA:'"
      ]
     },
     "metadata": {},
     "output_type": "display_data"
    },
    {
     "data": {
      "text/plain": [
       "array(0.83060075)"
      ]
     },
     "metadata": {},
     "output_type": "display_data"
    },
    {
     "data": {
      "text/plain": [
       "[<matplotlib.lines.Line2D at 0x1ba737f0>]"
      ]
     },
     "execution_count": 11,
     "metadata": {},
     "output_type": "execute_result"
    },
    {
     "data": {
      "image/png": "[encoded data removed]",
      "text/plain": [
       "<Figure size 432x288 with 1 Axes>"
      ]
     },
     "metadata": {
      "needs_background": "light"
     },
     "output_type": "display_data"
    }
   ],
   "source": [
    "champs['PB'] = champs['PB'].astype('float')\n",
    "champs['Winrate'] = champs['Winrate'].astype('float')\n",
    "champs['Kill_Participation'] = champs['Kill Participation'].astype('float')\n",
    "champs['Gold_Share'] = champs['Gold Share'].astype('float')\n",
    "champs['Kill_Share'] = champs['Kill Share'].astype('float')\n",
    "champs['KDA'] = champs['KDA'].astype('float')\n",
    "champs['CSPM'] = champs['CSPM'].astype('float')\n",
    "champs['GPM'] = champs['GPM'].astype('float')\n",
    "model = sm.ols(formula='PB ~ KDA', data =champs).fit()\n",
    "display(\"P Value from T-test for KDA:\",model.t_test('KDA = 0').pvalue)\n",
    "\n",
    "plt.title(\"Pick Ban Rate vs KDA for Champions in LoL World Tournament\")\n",
    "plt.xlabel(\"KDA \")\n",
    "plt.ylabel(\"Pick Ban Rate (%)\")\n",
    "plt.plot(champs['KDA'],champs['PB'],'go')"
   ]
  },
  {
   "cell_type": "markdown",
   "metadata": {},
   "source": [
    "Surprisingly, our T test showed that KDA is not linearly related to Ban Rate, since our P value of 0.83 is not less than our threshold of 0.05. The chart also doesn't show any sort of linear relationship. This means the players don't consider a champions KDA when picking to ban them. \n",
    "\n",
    "Let's try analyzing another kill related statistic in Kill Participation. A high kill participation (calculated as $\\frac{Champion Kills}{Total Team Kills}$) indicates a player had a lot of his team kills, and thus had a large impact on the game. Players should be more likely to ban high impact champions so this should be linearly related to ban rate."
   ]
  },
  {
   "cell_type": "code",
   "execution_count": 12,
   "metadata": {},
   "outputs": [
    {
     "data": {
      "text/plain": [
       "'P Value from T-test for Kill Participation:'"
      ]
     },
     "metadata": {},
     "output_type": "display_data"
    },
    {
     "data": {
      "text/plain": [
       "array(0.74472394)"
      ]
     },
     "metadata": {},
     "output_type": "display_data"
    },
    {
     "data": {
      "text/plain": [
       "[<matplotlib.lines.Line2D at 0x1c93a290>]"
      ]
     },
     "execution_count": 12,
     "metadata": {},
     "output_type": "execute_result"
    },
    {
     "data": {
      "image/png": "[encoded data removed]",
      "text/plain": [
       "<Figure size 432x288 with 1 Axes>"
      ]
     },
     "metadata": {
      "needs_background": "light"
     },
     "output_type": "display_data"
    }
   ],
   "source": [
    "model = sm.ols(formula='PB ~ Kill_Participation', data = champs).fit()\n",
    "display(\"P Value from T-test for Kill Participation:\",model.t_test('Kill_Participation = 0').pvalue)\n",
    "\n",
    "plt.title(\"Ban Rate vs Kill Participation for Champions in LoL World Tournament\")\n",
    "plt.xlabel(\"Kill Participation\")\n",
    "plt.ylabel(\"Ban Rate (%)\")\n",
    "plt.plot(champs['Kill_Participation'],champs['PB'],'go')"
   ]
  },
  {
   "cell_type": "markdown",
   "metadata": {},
   "source": [
    "Surprisingly that's not related to ban rate either as we can see from the chart and high p-value, so it seems like players don't consider a champions potential to have a large amount of kills or assists at all when banning champions. \n",
    "\n",
    "Lets analyze some of the other key statistics in our data, like CSPM (number of minions killed per minute) and Gold per Minute, as we expect these also are likely to be related to ban rate since they indicate how quickly a champion can accumulate gold and minion kills."
   ]
  },
  {
   "cell_type": "code",
   "execution_count": 13,
   "metadata": {},
   "outputs": [
    {
     "data": {
      "text/plain": [
       "'P Value from T-test for CSPM:'"
      ]
     },
     "metadata": {},
     "output_type": "display_data"
    },
    {
     "data": {
      "text/plain": [
       "array(0.42535271)"
      ]
     },
     "metadata": {},
     "output_type": "display_data"
    },
    {
     "data": {
      "text/plain": [
       "[<matplotlib.lines.Line2D at 0x1dd133d0>]"
      ]
     },
     "execution_count": 13,
     "metadata": {},
     "output_type": "execute_result"
    },
    {
     "data": {
      "image/png": "[encoded data removed]",
      "text/plain": [
       "<Figure size 432x288 with 1 Axes>"
      ]
     },
     "metadata": {
      "needs_background": "light"
     },
     "output_type": "display_data"
    }
   ],
   "source": [
    "model = sm.ols(formula='PB ~ CSPM', data = champs).fit()\n",
    "display(\"P Value from T-test for CSPM:\",model.t_test('CSPM = 0').pvalue)\n",
    "\n",
    "plt.title(\"Ban Rate vs CSPM for Champions in LoL World Tournament\")\n",
    "plt.xlabel(\"CSPM\")\n",
    "plt.ylabel(\"Ban Rate (%)\")\n",
    "plt.plot(champs['CSPM'],champs['PB'],'go')"
   ]
  },
  {
   "cell_type": "code",
   "execution_count": 14,
   "metadata": {},
   "outputs": [
    {
     "data": {
      "text/plain": [
       "Intercept    31.959159\n",
       "GPM          -0.013965\n",
       "dtype: float64"
      ]
     },
     "metadata": {},
     "output_type": "display_data"
    },
    {
     "data": {
      "text/plain": [
       "'P Value from T-test for GPM:'"
      ]
     },
     "metadata": {},
     "output_type": "display_data"
    },
    {
     "data": {
      "text/plain": [
       "array(0.77087128)"
      ]
     },
     "metadata": {},
     "output_type": "display_data"
    },
    {
     "data": {
      "text/plain": [
       "[<matplotlib.lines.Line2D at 0x1c67ec30>]"
      ]
     },
     "execution_count": 14,
     "metadata": {},
     "output_type": "execute_result"
    },
    {
     "data": {
      "image/png": "[encoded data removed]",
      "text/plain": [
       "<Figure size 432x288 with 1 Axes>"
      ]
     },
     "metadata": {
      "needs_background": "light"
     },
     "output_type": "display_data"
    }
   ],
   "source": [
    "model = sm.ols(formula='PB ~ GPM', data = champs).fit()\n",
    "display(model.params)\n",
    "display(\"P Value from T-test for GPM:\",model.t_test('GPM = 0').pvalue)\n",
    "\n",
    "plt.title(\"Ban Rate vs GPM for Champions in LoL World Tournament\")\n",
    "plt.xlabel(\"GPM\")\n",
    "plt.ylabel(\"Ban Rate (%)\")\n",
    "plt.plot(champs['GPM'],champs['PB'],'go')"
   ]
  },
  {
   "cell_type": "markdown",
   "metadata": {},
   "source": [
    "Neither CSPM nor GPM were linearly related to ban rate, as indicated by their high p values and the shape of their plots when compared to ban rate. This indicates that players don't consider champions ability to farm gold when choosing who to ban. \n",
    "\n",
    "Now that we have exhausted most of the variables we thought were linearly related to ban rate, let's try analyzing the win rate of champions and see if that is linearly related to ban rate."
   ]
  },
  {
   "cell_type": "code",
   "execution_count": 15,
   "metadata": {},
   "outputs": [
    {
     "data": {
      "text/plain": [
       "'P Value from T-test for GPM:'"
      ]
     },
     "metadata": {},
     "output_type": "display_data"
    },
    {
     "data": {
      "text/plain": [
       "array(0.02955141)"
      ]
     },
     "metadata": {},
     "output_type": "display_data"
    },
    {
     "data": {
      "text/plain": [
       "[<matplotlib.lines.Line2D at 0x1c6339f0>]"
      ]
     },
     "execution_count": 15,
     "metadata": {},
     "output_type": "execute_result"
    },
    {
     "data": {
      "image/png": "[encoded data removed]",
      "text/plain": [
       "<Figure size 432x288 with 1 Axes>"
      ]
     },
     "metadata": {
      "needs_background": "light"
     },
     "output_type": "display_data"
    }
   ],
   "source": [
    "model = sm.ols(formula='PB ~ Winrate', data = champs).fit()\n",
    "display(\"P Value from T-test for GPM:\",model.t_test('Winrate = 0').pvalue)\n",
    "\n",
    "plt.title(\"Ban Rate vs Win rate for Champions in LoL World Tournament\")\n",
    "plt.xlabel(\"Winrate (%)\")\n",
    "plt.ylabel(\"Ban Rate (%)\")\n",
    "plt.plot(champs['Winrate'],champs['PB'],'go')"
   ]
  },
  {
   "cell_type": "markdown",
   "metadata": {},
   "source": [
    "Finally something that is related to ban rate! It seems players choose to ban champions based on how often players with those champions win.\n",
    "\n",
    "Let's explore this relationship a little more. We can get the coefficients from our model and generate some predicted values for a champions ban-rate given their win rate."
   ]
  },
  {
   "cell_type": "code",
   "execution_count": 16,
   "metadata": {},
   "outputs": [
    {
     "data": {
      "text/plain": [
       "Intercept    16.181643\n",
       "Winrate       0.245335\n",
       "dtype: float64"
      ]
     },
     "metadata": {},
     "output_type": "display_data"
    },
    {
     "data": {
      "text/plain": [
       "[<matplotlib.lines.Line2D at 0x1bdc8eb0>]"
      ]
     },
     "execution_count": 16,
     "metadata": {},
     "output_type": "execute_result"
    },
    {
     "data": {
      "image/png": "[encoded data removed]",
      "text/plain": [
       "<Figure size 432x288 with 1 Axes>"
      ]
     },
     "metadata": {
      "needs_background": "light"
     },
     "output_type": "display_data"
    }
   ],
   "source": [
    "display(model.params)\n",
    "\n",
    "champs['predicted_ban_rate'] = champs['Winrate'] * .245335 + 16.181643\n",
    "champs['residuals_ban_rate'] = champs['PB'] - champs['predicted_ban_rate']\n",
    "\n",
    "plt.title(\"Residuals of Ban Rate for Champions in LoL World Tournament\")\n",
    "plt.xlabel(\"Ban Rate(%)\")\n",
    "plt.ylabel(\"Residual\")\n",
    "plt.plot(champs['PB'],champs['residuals_ban_rate'],'go')"
   ]
  },
  {
   "cell_type": "markdown",
   "metadata": {},
   "source": [
    "Obviously our residual plot raises a lot of concerns. A residual plot is supposed to be randomly distributed around 0, but ours is a line that increases as ban rate increases. Unfortunately, since all the other important variables were shown to be non-related with ban rate, we can't include any other variables to fix this. It seems like it is very difficult to predict what kinds of champions are banned. \n",
    "\n",
    "However, we can still see if we can predict winning percentage based on champion statistics. We will start by analyzing the relationship between winning percentage and KDA. It is reasonable to assume that a champion with a high winning percentage would have a high KDA, so let's test that theory."
   ]
  },
  {
   "cell_type": "code",
   "execution_count": 17,
   "metadata": {},
   "outputs": [
    {
     "data": {
      "text/plain": [
       "'P Value from T-test:'"
      ]
     },
     "metadata": {},
     "output_type": "display_data"
    },
    {
     "data": {
      "text/plain": [
       "array(3.03152389e-09)"
      ]
     },
     "metadata": {},
     "output_type": "display_data"
    },
    {
     "data": {
      "text/plain": [
       "[<matplotlib.lines.Line2D at 0x1d25cdf0>]"
      ]
     },
     "execution_count": 17,
     "metadata": {},
     "output_type": "execute_result"
    },
    {
     "data": {
      "image/png": "[encoded data removed]",
      "text/plain": [
       "<Figure size 432x288 with 1 Axes>"
      ]
     },
     "metadata": {
      "needs_background": "light"
     },
     "output_type": "display_data"
    }
   ],
   "source": [
    "model = sm.ols(formula='Winrate ~ KDA', data = champs).fit()\n",
    "display(\"P Value from T-test:\",model.t_test('KDA = 0').pvalue)\n",
    "\n",
    "plt.title(\"Winning Rate vs KDA for Champions in LoL World Tournament\")\n",
    "plt.xlabel(\"KDA\")\n",
    "plt.ylabel(\"Win Rate (%)\")\n",
    "plt.plot(champs['KDA'],champs['Winrate'],'go')"
   ]
  },
  {
   "cell_type": "markdown",
   "metadata": {},
   "source": [
    "It appears winning rate is linear related to KDA for League of Legends champions. This means a champion with a high KDA will win more games on average, which makes sense. Now let's examine the gold based statistics like CSPM and GPM."
   ]
  },
  {
   "cell_type": "code",
   "execution_count": 18,
   "metadata": {},
   "outputs": [
    {
     "data": {
      "text/plain": [
       "'P Value from T-test:'"
      ]
     },
     "metadata": {},
     "output_type": "display_data"
    },
    {
     "data": {
      "text/plain": [
       "array(0.22898347)"
      ]
     },
     "metadata": {},
     "output_type": "display_data"
    },
    {
     "data": {
      "text/plain": [
       "[<matplotlib.lines.Line2D at 0x1bcc3bd0>]"
      ]
     },
     "execution_count": 18,
     "metadata": {},
     "output_type": "execute_result"
    },
    {
     "data": {
      "image/png": "[encoded data removed]",
      "text/plain": [
       "<Figure size 432x288 with 1 Axes>"
      ]
     },
     "metadata": {
      "needs_background": "light"
     },
     "output_type": "display_data"
    }
   ],
   "source": [
    "model = sm.ols(formula='Winrate ~ CSPM', data = champs).fit()\n",
    "display(\"P Value from T-test:\",model.t_test('CSPM = 0').pvalue)\n",
    "\n",
    "plt.title(\"Winning Rate vs CSPM for Champions in LoL World Tournament\")\n",
    "plt.xlabel(\"CSPM\")\n",
    "plt.ylabel(\"Win Rate (%)\")\n",
    "plt.plot(champs['CSPM'],champs['Winrate'],'go')"
   ]
  },
  {
   "cell_type": "code",
   "execution_count": 19,
   "metadata": {},
   "outputs": [
    {
     "data": {
      "text/plain": [
       "'P Value from T-test:'"
      ]
     },
     "metadata": {},
     "output_type": "display_data"
    },
    {
     "data": {
      "text/plain": [
       "array(0.00135858)"
      ]
     },
     "metadata": {},
     "output_type": "display_data"
    },
    {
     "data": {
      "text/plain": [
       "[<matplotlib.lines.Line2D at 0x1b338ad0>]"
      ]
     },
     "execution_count": 19,
     "metadata": {},
     "output_type": "execute_result"
    },
    {
     "data": {
      "image/png": "[encoded data removed]",
      "text/plain": [
       "<Figure size 432x288 with 1 Axes>"
      ]
     },
     "metadata": {
      "needs_background": "light"
     },
     "output_type": "display_data"
    }
   ],
   "source": [
    "model = sm.ols(formula='Winrate ~ GPM', data = champs).fit()\n",
    "display(\"P Value from T-test:\",model.t_test('GPM = 0').pvalue)\n",
    "\n",
    "plt.title(\"Winning Rate vs GPM for Champions in LoL World Tournament\")\n",
    "plt.xlabel(\"GPM\")\n",
    "plt.ylabel(\"Win Rate (%)\")\n",
    "plt.plot(champs['GPM'],champs['Winrate'],'go')"
   ]
  },
  {
   "cell_type": "markdown",
   "metadata": {},
   "source": [
    "While CSPM doesn't seem to be linearly related to win rate, as indicated by the high p-value, we can see that GPM does seem to be linearly related which makes sense since more gold leads to better gear which can lead to more kills.\n",
    "\n",
    "One reason CSPM might not be linearly related to win rate is some champions are supposed to have a low CSPM, like support champions, since they want their AD to take all of the CS. This would lead to good support champions having a low CSPM, but a high win rate. \n",
    "\n",
    "Since win rate is linearly related to KDA and GPM, let's create a model with both variables in it."
   ]
  },
  {
   "cell_type": "code",
   "execution_count": 20,
   "metadata": {},
   "outputs": [
    {
     "data": {
      "text/html": [
       "<table class=\"simpletable\">\n",
       "<caption>OLS Regression Results</caption>\n",
       "<tr>\n",
       "  <th>Dep. Variable:</th>         <td>Winrate</td>     <th>  R-squared:         </th> <td>   0.395</td>\n",
       "</tr>\n",
       "<tr>\n",
       "  <th>Model:</th>                   <td>OLS</td>       <th>  Adj. R-squared:    </th> <td>   0.378</td>\n",
       "</tr>\n",
       "<tr>\n",
       "  <th>Method:</th>             <td>Least Squares</td>  <th>  F-statistic:       </th> <td>   23.20</td>\n",
       "</tr>\n",
       "<tr>\n",
       "  <th>Date:</th>             <td>Fri, 14 Dec 2018</td> <th>  Prob (F-statistic):</th> <td>1.77e-08</td>\n",
       "</tr>\n",
       "<tr>\n",
       "  <th>Time:</th>                 <td>13:33:13</td>     <th>  Log-Likelihood:    </th> <td> -336.91</td>\n",
       "</tr>\n",
       "<tr>\n",
       "  <th>No. Observations:</th>      <td>    74</td>      <th>  AIC:               </th> <td>   679.8</td>\n",
       "</tr>\n",
       "<tr>\n",
       "  <th>Df Residuals:</th>          <td>    71</td>      <th>  BIC:               </th> <td>   686.7</td>\n",
       "</tr>\n",
       "<tr>\n",
       "  <th>Df Model:</th>              <td>     2</td>      <th>                     </th>     <td> </td>   \n",
       "</tr>\n",
       "<tr>\n",
       "  <th>Covariance Type:</th>      <td>nonrobust</td>    <th>                     </th>     <td> </td>   \n",
       "</tr>\n",
       "</table>\n",
       "<table class=\"simpletable\">\n",
       "<tr>\n",
       "      <td></td>         <th>coef</th>     <th>std err</th>      <th>t</th>      <th>P>|t|</th>  <th>[0.025</th>    <th>0.975]</th>  \n",
       "</tr>\n",
       "<tr>\n",
       "  <th>Intercept</th> <td>    3.7508</td> <td>   14.338</td> <td>    0.262</td> <td> 0.794</td> <td>  -24.839</td> <td>   32.340</td>\n",
       "</tr>\n",
       "<tr>\n",
       "  <th>GPM</th>       <td>    0.0391</td> <td>    0.044</td> <td>    0.894</td> <td> 0.374</td> <td>   -0.048</td> <td>    0.126</td>\n",
       "</tr>\n",
       "<tr>\n",
       "  <th>KDA</th>       <td>    7.2517</td> <td>    1.309</td> <td>    5.541</td> <td> 0.000</td> <td>    4.642</td> <td>    9.861</td>\n",
       "</tr>\n",
       "</table>\n",
       "<table class=\"simpletable\">\n",
       "<tr>\n",
       "  <th>Omnibus:</th>       <td> 1.677</td> <th>  Durbin-Watson:     </th> <td>   1.575</td>\n",
       "</tr>\n",
       "<tr>\n",
       "  <th>Prob(Omnibus):</th> <td> 0.432</td> <th>  Jarque-Bera (JB):  </th> <td>   1.031</td>\n",
       "</tr>\n",
       "<tr>\n",
       "  <th>Skew:</th>          <td> 0.122</td> <th>  Prob(JB):          </th> <td>   0.597</td>\n",
       "</tr>\n",
       "<tr>\n",
       "  <th>Kurtosis:</th>      <td> 3.524</td> <th>  Cond. No.          </th> <td>1.92e+03</td>\n",
       "</tr>\n",
       "</table><br/><br/>Warnings:<br/>[1] Standard Errors assume that the covariance matrix of the errors is correctly specified.<br/>[2] The condition number is large, 1.92e+03. This might indicate that there are<br/>strong multicollinearity or other numerical problems."
      ],
      "text/plain": [
       "<class 'statsmodels.iolib.summary.Summary'>\n",
       "\"\"\"\n",
       "                            OLS Regression Results                            \n",
       "==============================================================================\n",
       "Dep. Variable:                Winrate   R-squared:                       0.395\n",
       "Model:                            OLS   Adj. R-squared:                  0.378\n",
       "Method:                 Least Squares   F-statistic:                     23.20\n",
       "Date:                Fri, 14 Dec 2018   Prob (F-statistic):           1.77e-08\n",
       "Time:                        13:33:13   Log-Likelihood:                -336.91\n",
       "No. Observations:                  74   AIC:                             679.8\n",
       "Df Residuals:                      71   BIC:                             686.7\n",
       "Df Model:                           2                                         \n",
       "Covariance Type:            nonrobust                                         \n",
       "==============================================================================\n",
       "                 coef    std err          t      P>|t|      [0.025      0.975]\n",
       "------------------------------------------------------------------------------\n",
       "Intercept      3.7508     14.338      0.262      0.794     -24.839      32.340\n",
       "GPM            0.0391      0.044      0.894      0.374      -0.048       0.126\n",
       "KDA            7.2517      1.309      5.541      0.000       4.642       9.861\n",
       "==============================================================================\n",
       "Omnibus:                        1.677   Durbin-Watson:                   1.575\n",
       "Prob(Omnibus):                  0.432   Jarque-Bera (JB):                1.031\n",
       "Skew:                           0.122   Prob(JB):                        0.597\n",
       "Kurtosis:                       3.524   Cond. No.                     1.92e+03\n",
       "==============================================================================\n",
       "\n",
       "Warnings:\n",
       "[1] Standard Errors assume that the covariance matrix of the errors is correctly specified.\n",
       "[2] The condition number is large, 1.92e+03. This might indicate that there are\n",
       "strong multicollinearity or other numerical problems.\n",
       "\"\"\""
      ]
     },
     "execution_count": 20,
     "metadata": {},
     "output_type": "execute_result"
    }
   ],
   "source": [
    "model = sm.ols(formula='Winrate ~ GPM+   KDA', data = champs).fit()\n",
    "model.summary()"
   ]
  },
  {
   "cell_type": "markdown",
   "metadata": {},
   "source": [
    "Unfortunately, it seems GPM is not significant in predicting winning percentage when it is included in a model with KDA, despite it being individually significant in predicted winning percentage. We will simply not use GPM as a predictor in our model due to this, leaving KDA as our only predictor.\n",
    "\n",
    "Let's get the coefficients for the model with KDA as the only predictor and generate the predicted winning percentages and residuals."
   ]
  },
  {
   "cell_type": "code",
   "execution_count": 21,
   "metadata": {},
   "outputs": [
    {
     "data": {
      "text/plain": [
       "Intercept    15.771156\n",
       "KDA           7.801409\n",
       "dtype: float64"
      ]
     },
     "metadata": {},
     "output_type": "display_data"
    },
    {
     "data": {
      "text/plain": [
       "[<matplotlib.lines.Line2D at 0x1c27a790>]"
      ]
     },
     "execution_count": 21,
     "metadata": {},
     "output_type": "execute_result"
    },
    {
     "data": {
      "image/png": "[encoded data removed]",
      "text/plain": [
       "<Figure size 432x288 with 1 Axes>"
      ]
     },
     "metadata": {
      "needs_background": "light"
     },
     "output_type": "display_data"
    }
   ],
   "source": [
    "model = sm.ols(formula='Winrate ~ KDA', data = champs).fit()\n",
    "display(model.params)\n",
    "\n",
    "champs['predicted_win_rate'] = champs['KDA'] * 7.801409 + 15.771156\n",
    "champs['residuals_win_rate'] = champs['Winrate'] - champs['predicted_win_rate']\n",
    "\n",
    "plt.title(\"Residuals of Win Rate for Champions in LoL World Tournament\")\n",
    "plt.xlabel(\"Win Rate(%)\")\n",
    "plt.ylabel(\"Residual\")\n",
    "plt.plot(champs['Winrate'],champs['residuals_win_rate'],'go')"
   ]
  },
  {
   "cell_type": "markdown",
   "metadata": {},
   "source": [
    "Unfortunately we see the same problems with our residual plot as we did with our ban rate residual plot, it is not randomly distributed around 0 and looks like a increasing diagonal line. It seems champion statistics aren't that relevant in win rate, so win rate is probably more related to things like team-composition, strategies, and skill level. While this is dissapointing, it speaks to how League of Legends has a lot of champions that can help win games and how there aren't a lot of \"overpowered\" champions that ruin the competitive scene\n",
    "\n",
    "Let's move to analyzing more team related statistics with the Summer season data to see if we can predict wins and generate more insights about gameplay using that data."
   ]
  },
  {
   "cell_type": "markdown",
   "metadata": {},
   "source": [
    "<h3>Analyzing Summer Season Data</h3>\n",
    "\n",
    "Let's continue our linear regression to develop our heuristic to predict the winner of Worlds using Summer Season Data instead. Since Summer season data has more team related statistics, it might be more helpful in predicting wins. The first bit of linear regression we want to do is determine what makes a player good.To do this, we will be using winrate as our y value, and all of the different player statistics as our x variables. The results will tell us which of the different variables are important and how important each one is individually. \n",
    "\n",
    "First, we separated all of the data into their own positions, because what makes a mid laner good is probably different from\n",
    "what makes a support good."
   ]
  },
  {
   "cell_type": "code",
   "execution_count": 22,
   "metadata": {},
   "outputs": [
    {
     "data": {
      "text/html": [
       "<div>\n",
       "<style scoped>\n",
       "    .dataframe tbody tr th:only-of-type {\n",
       "        vertical-align: middle;\n",
       "    }\n",
       "\n",
       "    .dataframe tbody tr th {\n",
       "        vertical-align: top;\n",
       "    }\n",
       "\n",
       "    .dataframe thead th {\n",
       "        text-align: right;\n",
       "    }\n",
       "</style>\n",
       "<table border=\"1\" class=\"dataframe\">\n",
       "  <thead>\n",
       "    <tr style=\"text-align: right;\">\n",
       "      <th></th>\n",
       "      <th>Team</th>\n",
       "      <th>Player</th>\n",
       "      <th>Games</th>\n",
       "      <th>Wins</th>\n",
       "      <th>Losses</th>\n",
       "      <th>Winrate</th>\n",
       "      <th>Kills</th>\n",
       "      <th>Deaths</th>\n",
       "      <th>Assists</th>\n",
       "      <th>KDA</th>\n",
       "      <th>CS</th>\n",
       "      <th>CSPM</th>\n",
       "      <th>Gold</th>\n",
       "      <th>GPM</th>\n",
       "      <th>Kill Participation</th>\n",
       "      <th>Kill Share</th>\n",
       "      <th>Gold Share</th>\n",
       "      <th>Champions Played</th>\n",
       "      <th>Position</th>\n",
       "    </tr>\n",
       "  </thead>\n",
       "  <tbody>\n",
       "    <tr>\n",
       "      <th>4</th>\n",
       "      <td>JD_Gaming</td>\n",
       "      <td>Zoom</td>\n",
       "      <td>50</td>\n",
       "      <td>30</td>\n",
       "      <td>20</td>\n",
       "      <td>60.0</td>\n",
       "      <td>2.60</td>\n",
       "      <td>2.00</td>\n",
       "      <td>5.56</td>\n",
       "      <td>4.08</td>\n",
       "      <td>299.90</td>\n",
       "      <td>9.00</td>\n",
       "      <td>13.72</td>\n",
       "      <td>412</td>\n",
       "      <td>63.7</td>\n",
       "      <td>20.3</td>\n",
       "      <td>22.7</td>\n",
       "      <td>12</td>\n",
       "      <td>Top</td>\n",
       "    </tr>\n",
       "    <tr>\n",
       "      <th>7</th>\n",
       "      <td>We</td>\n",
       "      <td>957</td>\n",
       "      <td>48</td>\n",
       "      <td>19</td>\n",
       "      <td>29</td>\n",
       "      <td>39.6</td>\n",
       "      <td>1.54</td>\n",
       "      <td>2.23</td>\n",
       "      <td>4.60</td>\n",
       "      <td>2.76</td>\n",
       "      <td>292.10</td>\n",
       "      <td>8.28</td>\n",
       "      <td>12.74</td>\n",
       "      <td>361</td>\n",
       "      <td>57.8</td>\n",
       "      <td>14.5</td>\n",
       "      <td>20.5</td>\n",
       "      <td>15</td>\n",
       "      <td>Top</td>\n",
       "    </tr>\n",
       "    <tr>\n",
       "      <th>8</th>\n",
       "      <td>Bilibili_Gaming</td>\n",
       "      <td>AmazingJ</td>\n",
       "      <td>48</td>\n",
       "      <td>18</td>\n",
       "      <td>30</td>\n",
       "      <td>37.5</td>\n",
       "      <td>1.48</td>\n",
       "      <td>2.98</td>\n",
       "      <td>5.08</td>\n",
       "      <td>2.20</td>\n",
       "      <td>280.65</td>\n",
       "      <td>8.48</td>\n",
       "      <td>12.32</td>\n",
       "      <td>372</td>\n",
       "      <td>65.2</td>\n",
       "      <td>14.7</td>\n",
       "      <td>21.3</td>\n",
       "      <td>13</td>\n",
       "      <td>Top</td>\n",
       "    </tr>\n",
       "    <tr>\n",
       "      <th>14</th>\n",
       "      <td>Snake_Esports</td>\n",
       "      <td>Flandre</td>\n",
       "      <td>47</td>\n",
       "      <td>20</td>\n",
       "      <td>27</td>\n",
       "      <td>42.6</td>\n",
       "      <td>2.21</td>\n",
       "      <td>2.36</td>\n",
       "      <td>4.83</td>\n",
       "      <td>2.98</td>\n",
       "      <td>326.64</td>\n",
       "      <td>9.69</td>\n",
       "      <td>13.54</td>\n",
       "      <td>401</td>\n",
       "      <td>67.8</td>\n",
       "      <td>21.3</td>\n",
       "      <td>22.9</td>\n",
       "      <td>18</td>\n",
       "      <td>Top</td>\n",
       "    </tr>\n",
       "    <tr>\n",
       "      <th>22</th>\n",
       "      <td>FunPlus_Phoenix</td>\n",
       "      <td>GimGoon</td>\n",
       "      <td>46</td>\n",
       "      <td>20</td>\n",
       "      <td>26</td>\n",
       "      <td>43.5</td>\n",
       "      <td>1.96</td>\n",
       "      <td>2.20</td>\n",
       "      <td>4.57</td>\n",
       "      <td>2.97</td>\n",
       "      <td>287.72</td>\n",
       "      <td>8.36</td>\n",
       "      <td>13.01</td>\n",
       "      <td>378</td>\n",
       "      <td>55.5</td>\n",
       "      <td>16.6</td>\n",
       "      <td>21.4</td>\n",
       "      <td>14</td>\n",
       "      <td>Top</td>\n",
       "    </tr>\n",
       "  </tbody>\n",
       "</table>\n",
       "</div>"
      ],
      "text/plain": [
       "               Team    Player  Games  Wins  Losses  Winrate  Kills  Deaths  \\\n",
       "4         JD_Gaming      Zoom     50    30      20     60.0   2.60    2.00   \n",
       "7                We       957     48    19      29     39.6   1.54    2.23   \n",
       "8   Bilibili_Gaming  AmazingJ     48    18      30     37.5   1.48    2.98   \n",
       "14    Snake_Esports   Flandre     47    20      27     42.6   2.21    2.36   \n",
       "22  FunPlus_Phoenix   GimGoon     46    20      26     43.5   1.96    2.20   \n",
       "\n",
       "    Assists   KDA      CS  CSPM   Gold  GPM  Kill Participation  Kill Share  \\\n",
       "4      5.56  4.08  299.90  9.00  13.72  412                63.7        20.3   \n",
       "7      4.60  2.76  292.10  8.28  12.74  361                57.8        14.5   \n",
       "8      5.08  2.20  280.65  8.48  12.32  372                65.2        14.7   \n",
       "14     4.83  2.98  326.64  9.69  13.54  401                67.8        21.3   \n",
       "22     4.57  2.97  287.72  8.36  13.01  378                55.5        16.6   \n",
       "\n",
       "    Gold Share  Champions Played Position  \n",
       "4         22.7                12      Top  \n",
       "7         20.5                15      Top  \n",
       "8         21.3                13      Top  \n",
       "14        22.9                18      Top  \n",
       "22        21.4                14      Top  "
      ]
     },
     "execution_count": 22,
     "metadata": {},
     "output_type": "execute_result"
    }
   ],
   "source": [
    "# Create tables based on player position for our model.\n",
    "top = masterReg[masterReg['Position']=='Top']\n",
    "jg = masterReg[masterReg['Position']=='JG']\n",
    "mid = masterReg[masterReg['Position']=='Mid']\n",
    "adc = masterReg[masterReg['Position']=='ADC']\n",
    "supp = masterReg[masterReg['Position']=='Supp']\n",
    "\n",
    "top.head()"
   ]
  },
  {
   "cell_type": "markdown",
   "metadata": {},
   "source": [
    "Next, we have to determine which variables we should be using to figure out their weights, or coefficients. To do this, we\n",
    "created a powerset function that returns every possible combination of the variables we can have."
   ]
  },
  {
   "cell_type": "code",
   "execution_count": 23,
   "metadata": {},
   "outputs": [],
   "source": [
    "# The code for this function was taken from:\n",
    "#     https://codereview.stackexchange.com/questions/178225/computing-the-powerset-of-a-list\n",
    "\n",
    "# Powerset function of a given list\n",
    "def gen_powerset(l):\n",
    "    if not l:  # List is empty\n",
    "        yield []\n",
    "        return\n",
    "    for sub_powerset in gen_powerset(l[1:]): # Generate next list\n",
    "        yield sub_powerset\n",
    "        yield [l[0]] + sub_powerset"
   ]
  },
  {
   "cell_type": "markdown",
   "metadata": {},
   "source": [
    "Next, we removed outliers from the data that would significantly impact the results. This is due to us using winrate as our\n",
    "measure of how good a player is. For example, if we have a substitute player that only played one game, and won, our algorithm\n",
    "thinks that he is the best player in the world. To remove outliers, we tested each dataset with at least 'x' games played\n",
    "by players to see what the cutoff should be. We don't want to remove more than 10 games, because that would encrouch on the\n",
    "regular season starters for some regions, so we looked at 0-10 for each region.\n",
    "\n",
    "The code below is linear regression for predicitive analysis. Here we provide some links to extra reading material to familarize yourself with linear regression and how it is used, to understand the next part of our tutorial. \n",
    "\n",
    "A [Source](https://towardsdatascience.com/linear-regression-using-python-ce21aa90ade6) on what linear regression is and why we use it. \n",
    "  \n",
    "An [Example](https://scikit-learn.org/stable/auto_examples/linear_model/plot_ols.html) of basic linear regression\n",
    "\n",
    "A [Source](https://datatofish.com/multiple-linear-regression-python/) on linear regression of multi-variables, which is the type we did\n",
    "\n",
    "A [Source](https://towardsdatascience.com/train-test-split-and-cross-validation-in-python-80b61beca4b6) to understand the purpose and basic use of test and training data"
   ]
  },
  {
   "cell_type": "code",
   "execution_count": 24,
   "metadata": {},
   "outputs": [
    {
     "name": "stdout",
     "output_type": "stream",
     "text": [
      "Accuracy for predicting wins after excluding players with less than 0 games: 89.4%\n",
      "Accuracy for predicting wins after excluding players with less than 1 games: 89.4%\n",
      "Accuracy for predicting wins after excluding players with less than 2 games: 87.56%\n",
      "Accuracy for predicting wins after excluding players with less than 3 games: 84.77%\n",
      "Accuracy for predicting wins after excluding players with less than 4 games: 90.46%\n",
      "Accuracy for predicting wins after excluding players with less than 5 games: 81.57%\n",
      "Accuracy for predicting wins after excluding players with less than 6 games: 93.33%\n",
      "Accuracy for predicting wins after excluding players with less than 7 games: 93.33%\n",
      "Accuracy for predicting wins after excluding players with less than 8 games: 92.75%\n",
      "Accuracy for predicting wins after excluding players with less than 9 games: 91.14%\n"
     ]
    }
   ],
   "source": [
    "# This is an example of how we determined the cutoffs for each position. This was done on the adc table.\n",
    "\n",
    "# Must have played at least 0-10 games.\n",
    "for u in range(0,10):\n",
    "    \n",
    "    # Must have played at least 'u' games\n",
    "    tmp = adc[adc['Games'] >= u]\n",
    "\n",
    "    best = -1    # Keeps track of the best variance\n",
    "    bestLs = []  # Holds the list of variables for the best variance\n",
    "    coef = []    # Contains the coefficients for the variables\n",
    "    \n",
    "    # Set winrate to be our ranking for the players\n",
    "    y = tmp['Winrate']\n",
    "    \n",
    "    # All of the variables we want to look at.\n",
    "    # We excluded 'Champions Played' because we thought it wouldn't have a significant impact and any correlation\n",
    "    # the regression would pick up on would be for the wrong reason. This is because the more games you've played,\n",
    "    # the more champions you've played, on average, and this leads to a correlation we don't want to look at.\n",
    "    vars = ['KDA', 'GPM', 'Kill Share', 'Kill Participation', 'Kills', 'Deaths', 'Assists','Gold', 'Gold Share', 'CS', 'CSPM']\n",
    "\n",
    "    # Look at every possible combination of variables for the players\n",
    "    for ps in gen_powerset(vars):\n",
    "        \n",
    "        if ps: # Dont include empty list\n",
    "            \n",
    "            X = tmp[ps]\n",
    "            \n",
    "            # Split data into test and training sets with an 80/20 split, which is standard to minimize overfitting.\n",
    "            # 80% of the data is used for training and the remaining 20% is used for testing.\n",
    "            X_train, X_test, y_train, y_test = train_test_split(X, y, test_size=0.2, random_state=0)\n",
    "            \n",
    "            # Fit the model to the training data\n",
    "            regr = linear_model.LinearRegression()\n",
    "            regr.fit(X_train, y_train)\n",
    "\n",
    "            #numpy array that contains all the predicted values for the input values in the X series.\n",
    "            y_pred = regr.predict(X_test)\n",
    "\n",
    "            # Get the variance score between the test data and our prediction. 1 would be a perfect score.\n",
    "            residuals = r2_score(y_test, y_pred)\n",
    "\n",
    "            # Keep track of the best score and which variables we used.\n",
    "            if residuals > best:\n",
    "                best = residuals\n",
    "                bestLs = ps\n",
    "                coef = regr.coef_\n",
    "                \n",
    "    print(\"Accuracy for predicting wins after excluding players with less than\", str(u),\"games:\",str(round(best * 100,2)) + \"%\")"
   ]
  },
  {
   "cell_type": "markdown",
   "metadata": {},
   "source": [
    "From this output, we see that if we look at just players that have played at least 6 games our variance goes all the way\n",
    "up to a 93% accuracy. If we used every player, so at least 0 games played, we would have an 89% accuracy. In the end, this\n",
    "should help our model be more consistent by removing outliers in the data. We're allowed to do this because it makes sense \n",
    "heuristically, and we still have a sizeable portion of the regular data. This removes the problem of having a person that\n",
    "went 1/1 in their games and our algorithm tries to use them as the best player.\n",
    "\n",
    "By having 10 be our max we want to cut out, it ensures that we keep starters for each region, as well as players that split\n",
    "time like the junglers for Cloud9, Svenskeren and Blaber. The only players we remove are substitutes.\n",
    "\n",
    "Now to ensure that us removing the outliars hasn't had a significant effect on the amount of data we use, let's check to see how much of our data we are still using"
   ]
  },
  {
   "cell_type": "code",
   "execution_count": 25,
   "metadata": {},
   "outputs": [
    {
     "data": {
      "text/plain": [
       "0.867"
      ]
     },
     "execution_count": 25,
     "metadata": {},
     "output_type": "execute_result"
    }
   ],
   "source": [
    "round(len(adc[adc['Games']>=6])/len(adc),3)"
   ]
  },
  {
   "cell_type": "markdown",
   "metadata": {},
   "source": [
    "We see that we are still using 86.7% of the data which is good to see."
   ]
  },
  {
   "cell_type": "markdown",
   "metadata": {},
   "source": [
    "We repeated this process for each position and came up with the following numbers for minimum games played:\n",
    "\n",
    "Top - 7<br>\n",
    "Jungle - 2<br>\n",
    "Mid - 4<br>\n",
    "AD Carry - 6<br>\n",
    "Support - 7<br>\n",
    "\n",
    "Now we can remove the outliers (people with less than the minimum amount of games players) from our position tables."
   ]
  },
  {
   "cell_type": "code",
   "execution_count": 26,
   "metadata": {},
   "outputs": [],
   "source": [
    "top = top[top['Games']>=7]\n",
    "jg = jg[jg['Games']>=2]\n",
    "mid = mid[mid['Games']>=4]\n",
    "adc = adc[adc['Games']>=6]\n",
    "supp = supp[supp['Games']>=7]\n",
    "\n",
    "# Update the masterReg table\n",
    "newList = [top,jg,mid,adc,supp]\n",
    "masterReg = pd.concat(newList).sort_values(['Games','Player'],ascending=[False,True]).reset_index().drop('index',axis=1)"
   ]
  },
  {
   "cell_type": "markdown",
   "metadata": {},
   "source": [
    "The next step is to look at each position and figure out which variables we want to use now that we removed our outliers. using linear regression, we utilize the powerset created above to run through every combination of variables and see which generates the closet fit for our model and therefore the best prediction. The next few blaocks run through the code to predict what makes a player in a certain position do well. We show the code for the position 'top' but by changing th position passed in, we generated results for all positions (not shown). "
   ]
  },
  {
   "cell_type": "code",
   "execution_count": 27,
   "metadata": {},
   "outputs": [],
   "source": [
    "# TOP MODEL\n",
    "# Look at the top 20 results\n",
    "numResults = 20\n",
    "\n",
    "# Must have played at least 7 games\n",
    "tmp = top[top['Games'] >= 7] #change this to whatever position you would like to view statistics for that position\n",
    "\n",
    "# All of the variables we want to look at.\n",
    "vars = ['KDA', 'GPM', 'Kill Share', 'Kill Participation', 'Kills', 'Deaths', 'Assists','Gold', 'Gold Share', 'CS', 'CSPM']\n",
    "\n",
    "best = [-1]*numResults   # Array of top 20 variance scores\n",
    "bestLs = [-1]*numResults # Array of corresponding variables to each of the variance scores\n",
    "coef = [[-1]]*numResults # Array of weights associated with each of the variables producing the variance scores\n",
    "\n",
    "y = tmp['Winrate']\n",
    "\n",
    "for ps in gen_powerset(vars):\n",
    "    if ps:\n",
    "        X = tmp[ps]\n",
    "\n",
    "        X_train, X_test, y_train, y_test = train_test_split(X, y, test_size=0.2, random_state=0)\n",
    "        regr = linear_model.LinearRegression()\n",
    "        regr.fit(X_train, y_train)\n",
    "        y_pred = regr.predict(X_test)\n",
    "        residuals = r2_score(y_test, y_pred)\n",
    "\n",
    "        # Compares and tracks the best variances\n",
    "        for x in range(0,len(best)):\n",
    "\n",
    "            if residuals > best[x]:\n",
    "                best[x] = residuals\n",
    "                bestLs[x] = ps\n",
    "                coef[x] = regr.coef_\n",
    "                break"
   ]
  },
  {
   "cell_type": "markdown",
   "metadata": {},
   "source": [
    "The linear regression gives us the top 20 variance scores. 1 would be a perfect prediction, so having a value in the 80th or 90th percentile is a good prediction. For top, the variance is between 90 and 94 percent."
   ]
  },
  {
   "cell_type": "code",
   "execution_count": 28,
   "metadata": {
    "scrolled": true
   },
   "outputs": [
    {
     "name": "stdout",
     "output_type": "stream",
     "text": [
      "Var: 0.9409194865667102\n",
      "Kill Participation: 0.41870030190320784\n",
      "Kills: -5.167853590358203\n",
      "Gold: 33.72320651234464\n",
      "Gold Share: -16.924380441064116\n",
      "CS: -1.3655675442896547\n",
      "CSPM: 39.027813961885265\n",
      "\n",
      "Var: 0.9407408000926424\n",
      "GPM: 0.30315716157530537\n",
      "Kill Participation: 0.4571507493067729\n",
      "Kills: -5.110816971258835\n",
      "Gold: 24.185325702232806\n",
      "Gold Share: -16.875302658198155\n",
      "CS: -0.9432834250077977\n",
      "CSPM: 25.454715131610595\n",
      "\n",
      "Var: 0.9351921762809089\n",
      "Kills: -6.137537530047679\n",
      "Gold: 36.26738871884242\n",
      "Gold Share: -15.690385451927254\n",
      "CS: -1.4357446914972982\n",
      "CSPM: 37.91785698458777\n",
      "\n",
      "Var: 0.9347049812382993\n",
      "GPM: -0.10315729985001472\n",
      "Kills: -6.126644514963078\n",
      "Gold: 39.433404662646836\n",
      "Gold Share: -15.745646063409273\n",
      "CS: -1.577245176010293\n",
      "CSPM: 42.5711500043634\n",
      "\n",
      "Var: 0.9333757848390294\n",
      "KDA: 1.8162022549812264\n",
      "Kill Participation: 0.3256399723294834\n",
      "Kills: -5.520494607656059\n",
      "Gold: 31.534933434541003\n",
      "Gold Share: -14.6649990835399\n",
      "CS: -1.2878069492209019\n",
      "CSPM: 35.60175791392126\n",
      "\n"
     ]
    }
   ],
   "source": [
    "# This will show us the variance score, what variables it included and what the weights are for them.\n",
    "for x in range(0,5):\n",
    "    print(\"Var: \" + str(best[x])) # Print variance\n",
    "    for y in range(0,len(coef[x])):\n",
    "        print(bestLs[x][y] + \": \" + str(coef[x][y])) # Print column value and it's weight\n",
    "        \n",
    "    print()"
   ]
  },
  {
   "cell_type": "markdown",
   "metadata": {},
   "source": [
    "Since the difference in the variances of the top 20 are so small, we decided to go ahead and pick the one that makes the most sense using previous knowledge involving League of Legends. For those unfamilar with league, we have listed the main thing we looked for that helped us pick the heuristic below. Doing this saves us from picking just the top heuristic that may have been the best on our particular data set because of skewed input.\n",
    "\n",
    "These are the results we came up with for each position.\n",
    "\n",
    "Top<br>\n",
    "Var: 0.931<br>\n",
    "KDA: 2.098<br>\n",
    "GPM: 0.593<br>\n",
    "Kill Participation: 0.386<br>\n",
    "Kills: -5.463<br>\n",
    "Gold: 12.532<br>\n",
    "Gold Share: -14.218<br>\n",
    "CS: -0.449<br>\n",
    "CSPM: 8.511<br>\n",
    "\n",
    "For a top laner, it looks like you shouldn't be focusing on kills to let your team get them instead, but KDA is also positive\n",
    "so that encourages you to have more assists. Gold is important, which makes sense because gold is used to buy items, which \n",
    "makes you stronger. However, we see that Gold Share is fairly negative, meaning you should be getting gold, but not at the \n",
    "expense of your team's gold.\n",
    "\n",
    "Jungle<br>\n",
    "Var: 0.934<br>\n",
    "KDA: 0.181<br>\n",
    "GPM: 0.735<br>\n",
    "Kills: -2.680<br>\n",
    "Deaths: -7.255<br>\n",
    "Assists: 1.857<br>\n",
    "Gold: 7.166<br>\n",
    "Gold Share: -14.197<br>\n",
    "CS: -0.385<br>\n",
    "CSPM: 10.493<br>\n",
    "\n",
    "Jungle follows roughly the same logic as top: you want assists, not kills, and you don't want to take a large portion of the\n",
    "team's gold.\n",
    "\n",
    "Mid<br>\n",
    "Var: 0.901<br>\n",
    "GPM: 0.071<br>\n",
    "Deaths: -13.025<br>\n",
    "Assists: 3.69342852617<br>\n",
    "Gold: 19.8616597461<br>\n",
    "CS: -0.845745453945<br>\n",
    "CSPM: 12.7679155894<br>\n",
    "\n",
    "The algorithm seems to place a lot of weight on Gold Share and have it be negative, which doesn't really make sense for a mid\n",
    "laner, because you normally want them to have a high percentage of the team's gold. This is probably due to the fact that Gold Share, no matter of the position, is always going to be around 20% because it's split between 5 people.\n",
    "\n",
    "Because we didn't think Gold Share would be a good predictor, we excluded it from our results and looked for a different model. This\n",
    "is what we came up with, which still works pretty well. It has a focus on Gold, CSPM, and assists, while also punishing deaths.\n",
    "\n",
    "ADC<br>\n",
    "Var: 0.933<br>\n",
    "KDA: 0.879<br>\n",
    "GPM: 1.130<br>\n",
    "Kill Share: 1.035<br>\n",
    "Kill Participation: -0.335<br>\n",
    "Kills: -12.969<br>\n",
    "Assists: 4.652<br>\n",
    "CS: 0.128<br>\n",
    "CSPM: -11.299<br>\n",
    "Gold Share: -12.543<br>\n",
    "\n",
    "We ran into the same issue with Gold Share when doing the adc data, but without Gold Share included the variance scores dropped\n",
    "too low to be used. To rectify this, we just used the top result and decided not to influence the results in any way. The model\n",
    "seems to think that kills, gold share, kill participation, and cspm are all negative, which is counter-intuitive for any\n",
    "league of legends adc. Normally your job is to get kills, be involved, and get as much gold as you can so that you can carry\n",
    "your team by dealing the most damage. Since this doesn't line up with our intuition, we'll see how the results are at the end\n",
    "and talk more about this.\n",
    "\n",
    "Supp<br>\n",
    "Var: 0.915<br>\n",
    "KDA: 0.031<br>\n",
    "GPM: 1.338<br>\n",
    "Kill Share: -0.145<br>\n",
    "Kills: -3.991<br>\n",
    "Deaths: -6.054<br>\n",
    "Gold Share: -23.072<br>\n",
    "\n",
    "For a support, kills should be negative because you don't want to be taking kills/gold away from your team. Again this follows\n",
    "roughly the same pattern as top and jungle."
   ]
  },
  {
   "cell_type": "markdown",
   "metadata": {},
   "source": [
    "<h3>Predicting the Winner with Linear Regression</h3>\n",
    "\n",
    "Now that we have generated a heuristic for each position, we will use the weights we got from our linear regression and use them to calculate a player's winrate. We will do this by using the variables and associated weights profuced by our heuristic for each position to create the calculated winrate. We are then adding this as a new column to our dataframe. These calculated winrates will be used in linear regression again to predict future winners. "
   ]
  },
  {
   "cell_type": "code",
   "execution_count": 29,
   "metadata": {},
   "outputs": [],
   "source": [
    "# add the calculated value to the the corresponding table position\n",
    "top['CalculatedWinrate'] = 2.09811734882*top['KDA'] + 0.593191309816*top['GPM'] + 0.386431392477*top['Kill Participation'] + -5.46362811076*top['Kills'] + 12.5323771206*top['Gold'] + -14.2182616141*top['Gold Share'] + -0.449448292041*top['CS'] + 8.51130983888*top['CSPM']\n",
    "jg['CalculatedWinrate'] = 0.181164206403*jg['KDA'] + 0.735342254784*jg['GPM'] + -2.68009575084*jg['Kills'] + -7.25541495648*jg['Deaths'] + 1.85733953438*jg['Assists'] + 7.16660335062*jg['Gold'] + -14.1978168455*jg['Gold Share'] + -0.385377553174*jg['CS'] + 10.493478078*jg['CSPM']\n",
    "mid['CalculatedWinrate'] = mid['GPM']*0.0713156133641 + mid['Deaths']*-13.0255264467 + mid['Gold']*19.8616597461 + mid['CS']*-0.845745453945 + mid['CSPM']*12.7679155894 + mid['Assists']*3.69342852617\n",
    "adc['CalculatedWinrate'] = 1.13044121708*adc['GPM'] + 1.03542306739*adc['Kill Share'] + -0.335817323575*adc['Kill Participation'] + -12.9697993181*adc['Kills'] + 4.65262777296*adc['Assists'] + 0.128173966315*adc['CS'] + -11.2995505544*adc['CSPM'] + -12.5435852695*adc['Gold Share']\n",
    "supp['CalculatedWinrate'] = 1.338934096*supp['GPM'] + -0.145858503846*supp['Kill Share'] + -3.99163808505*supp['Kills'] + -6.05433184202*supp['Deaths'] + -23.0728233467*supp['Gold Share']"
   ]
  },
  {
   "cell_type": "markdown",
   "metadata": {},
   "source": [
    "Now, we can use linear regression to predict games. First we need to calculate the difference in the calculated winrate\n",
    "for each position and save them as variables. We will do this for each game. These will be the independent variables for our ML and the dependent variable will be which team won, a value either 0 or 100. "
   ]
  },
  {
   "cell_type": "code",
   "execution_count": 30,
   "metadata": {
    "scrolled": true
   },
   "outputs": [
    {
     "data": {
      "text/html": [
       "<div>\n",
       "<style scoped>\n",
       "    .dataframe tbody tr th:only-of-type {\n",
       "        vertical-align: middle;\n",
       "    }\n",
       "\n",
       "    .dataframe tbody tr th {\n",
       "        vertical-align: top;\n",
       "    }\n",
       "\n",
       "    .dataframe thead th {\n",
       "        text-align: right;\n",
       "    }\n",
       "</style>\n",
       "<table border=\"1\" class=\"dataframe\">\n",
       "  <thead>\n",
       "    <tr style=\"text-align: right;\">\n",
       "      <th></th>\n",
       "      <th>Team 0</th>\n",
       "      <th>Team 1</th>\n",
       "      <th>Winner</th>\n",
       "      <th>TopDiff</th>\n",
       "      <th>JGDiff</th>\n",
       "      <th>MidDiff</th>\n",
       "      <th>ADCDiff</th>\n",
       "      <th>SuppDiff</th>\n",
       "    </tr>\n",
       "  </thead>\n",
       "  <tbody>\n",
       "    <tr>\n",
       "      <th>0</th>\n",
       "      <td>100_Thieves</td>\n",
       "      <td>Cloud9</td>\n",
       "      <td>100</td>\n",
       "      <td>-4.608962</td>\n",
       "      <td>-5.403436</td>\n",
       "      <td>-3.653408</td>\n",
       "      <td>-15.702427</td>\n",
       "      <td>-11.031176</td>\n",
       "    </tr>\n",
       "    <tr>\n",
       "      <th>1</th>\n",
       "      <td>100_Thieves</td>\n",
       "      <td>Cloud9</td>\n",
       "      <td>0</td>\n",
       "      <td>-4.608962</td>\n",
       "      <td>-5.403436</td>\n",
       "      <td>-3.653408</td>\n",
       "      <td>-15.702427</td>\n",
       "      <td>-11.031176</td>\n",
       "    </tr>\n",
       "    <tr>\n",
       "      <th>2</th>\n",
       "      <td>100_Thieves</td>\n",
       "      <td>Clutch_Gaming</td>\n",
       "      <td>100</td>\n",
       "      <td>24.092309</td>\n",
       "      <td>34.620066</td>\n",
       "      <td>31.938803</td>\n",
       "      <td>19.437228</td>\n",
       "      <td>19.151735</td>\n",
       "    </tr>\n",
       "    <tr>\n",
       "      <th>3</th>\n",
       "      <td>100_Thieves</td>\n",
       "      <td>Clutch_Gaming</td>\n",
       "      <td>100</td>\n",
       "      <td>24.092309</td>\n",
       "      <td>34.620066</td>\n",
       "      <td>31.938803</td>\n",
       "      <td>19.437228</td>\n",
       "      <td>19.151735</td>\n",
       "    </tr>\n",
       "    <tr>\n",
       "      <th>4</th>\n",
       "      <td>100_Thieves</td>\n",
       "      <td>Counter_Logic_Gaming</td>\n",
       "      <td>100</td>\n",
       "      <td>25.776966</td>\n",
       "      <td>-9.190603</td>\n",
       "      <td>14.988410</td>\n",
       "      <td>16.230351</td>\n",
       "      <td>12.307903</td>\n",
       "    </tr>\n",
       "  </tbody>\n",
       "</table>\n",
       "</div>"
      ],
      "text/plain": [
       "        Team 0                Team 1  Winner    TopDiff     JGDiff    MidDiff  \\\n",
       "0  100_Thieves                Cloud9     100  -4.608962  -5.403436  -3.653408   \n",
       "1  100_Thieves                Cloud9       0  -4.608962  -5.403436  -3.653408   \n",
       "2  100_Thieves         Clutch_Gaming     100  24.092309  34.620066  31.938803   \n",
       "3  100_Thieves         Clutch_Gaming     100  24.092309  34.620066  31.938803   \n",
       "4  100_Thieves  Counter_Logic_Gaming     100  25.776966  -9.190603  14.988410   \n",
       "\n",
       "     ADCDiff   SuppDiff  \n",
       "0 -15.702427 -11.031176  \n",
       "1 -15.702427 -11.031176  \n",
       "2  19.437228  19.151735  \n",
       "3  19.437228  19.151735  \n",
       "4  16.230351  12.307903  "
      ]
     },
     "execution_count": 30,
     "metadata": {},
     "output_type": "execute_result"
    }
   ],
   "source": [
    "teams = {}                # Dictionary ('Team' -> [topDiff, jgDiff,...])\n",
    "laneDifferential = [[],[],[],[],[]]   # Contains new columns to be added to masterMatch\n",
    "\n",
    "# Go through each game we have data saved for.\n",
    "for index,row in masterMatch.iterrows():\n",
    "    \n",
    "    team0 = [] # Team 0 data\n",
    "    team1 = [] # Team 1 data\n",
    "    \n",
    "    # If we haven't seen this team yet, add it to the dictionary\n",
    "    if not row['Team 0'] in teams:\n",
    "        tmp = []\n",
    "        tmp.append(top[top['Team']==row['Team 0']])\n",
    "        tmp.append(jg[jg['Team']==row['Team 0']])\n",
    "        tmp.append(mid[mid['Team']==row['Team 0']])\n",
    "        tmp.append(adc[adc['Team']==row['Team 0']])\n",
    "        tmp.append(supp[supp['Team']==row['Team 0']])\n",
    "        \n",
    "        for player in tmp: \n",
    "            if len(player) == 1: # If there's only 1 player at that position, add them in\n",
    "                team0.append(player['CalculatedWinrate'])\n",
    "            else:\n",
    "                team0.append(player['CalculatedWinrate'].mean())  # If there are multiple players, we take the average\n",
    "                \n",
    "        # Save the team data in the dictionary for use later on\n",
    "        teams[row['Team 0']] = team0\n",
    "        \n",
    "    else:\n",
    "        team0 = teams[row['Team 0']]\n",
    "    \n",
    "    # Repeat the process for the next team\n",
    "    if not row['Team 1'] in teams:\n",
    "        tmp = []\n",
    "        tmp.append(top[top['Team']==row['Team 1']])\n",
    "        tmp.append(jg[jg['Team']==row['Team 1']])\n",
    "        tmp.append(mid[mid['Team']==row['Team 1']])\n",
    "        tmp.append(adc[adc['Team']==row['Team 1']])\n",
    "        tmp.append(supp[supp['Team']==row['Team 1']])\n",
    "        \n",
    "        for player in tmp: \n",
    "            if len(player) == 1:\n",
    "                team1.append(player['CalculatedWinrate']) \n",
    "            else:\n",
    "                team1.append(player['CalculatedWinrate'].mean())\n",
    "                \n",
    "        teams[row['Team 1']] = team1\n",
    "    \n",
    "    else:\n",
    "        team1 = teams[row['Team 1']]\n",
    "       \n",
    "    # Calculate the difference for each lane\n",
    "    for lane in range(0,5):\n",
    "        laneDifferential[lane].append(float(team0[lane]) - float(team1[lane]))\n",
    "    \n",
    "# Update masterMatch with the new data\n",
    "masterMatch['TopDiff'] = laneDifferential[0]\n",
    "masterMatch['JGDiff'] = laneDifferential[1]\n",
    "masterMatch['MidDiff'] = laneDifferential[2]\n",
    "masterMatch['ADCDiff'] = laneDifferential[3]\n",
    "masterMatch['SuppDiff'] = laneDifferential[4]\n",
    "\n",
    "masterMatch.head()"
   ]
  },
  {
   "cell_type": "markdown",
   "metadata": {},
   "source": [
    "Now we see that positive numbers tend towards 100, while negative numbers tend towards 0, which is why we modified the table earlier on. Again, we scaled 1 up to 100 just to increase the value of our weights.\n",
    "\n",
    "Now we can run linear regression on the masterMatch table using our calculated differences as the X, and the winner result as the y."
   ]
  },
  {
   "cell_type": "code",
   "execution_count": 31,
   "metadata": {},
   "outputs": [
    {
     "name": "stdout",
     "output_type": "stream",
     "text": [
      "Var: 0.30034114356623665\n",
      "[-0.12769662 -0.09652615  0.00205015  0.28178966  1.12903653]\n"
     ]
    }
   ],
   "source": [
    "tester = masterMatch\n",
    "\n",
    "# Calculated Differences\n",
    "vars = ['TopDiff','JGDiff','MidDiff','ADCDiff','SuppDiff']\n",
    "\n",
    "y = tester['Winner']  # Winner data\n",
    "\n",
    "X = tester[vars]\n",
    "\n",
    "X_train, X_test, y_train, y_test = train_test_split(X, y, test_size=0.2, random_state=0)\n",
    "regr = linear_model.LinearRegression()\n",
    "regr.fit(X_train, y_train)\n",
    "y_pred = regr.predict(X_test)\n",
    "residuals = r2_score(y_test, y_pred)\n",
    "                \n",
    "print(\"Var: \" + str(residuals))  # Print out the variance\n",
    "print(regr.coef_)                # Print out each lane's importance"
   ]
  },
  {
   "cell_type": "markdown",
   "metadata": {},
   "source": [
    "From our results, we can see that our variance score is 30%. This isn't ideal, especially considering we were expecting at\n",
    "least a value over 50%, which would be a blind guess. The model seems to think that top and jungle are negatively weighted,\n",
    "meaning that teams with a worse top and jungle will win a game. This is counter-intuitive to us because normally the team\n",
    "with better players wins more often. It is also worth noting that support is the largest value here by a decent margin,\n",
    "implying that teams with a better support win more often. Who knows? Maybe support is the most important position. The data\n",
    "seems to think so. Now we will simulate matches in Worlds to see how well the model does, despite it going against our \n",
    "intuition.\n",
    "\n",
    "Next we will Simulate matches! Just enter 2 teams and look at the result. Negative means the team on the right will win. Positive means the team on the left will win. "
   ]
  },
  {
   "cell_type": "code",
   "execution_count": 32,
   "metadata": {
    "scrolled": true
   },
   "outputs": [],
   "source": [
    "def matchup(team1,team2):\n",
    "    teamA = teams[team1]\n",
    "    teamB = teams[team2]\n",
    "\n",
    "    # Get the data to be the right type\n",
    "    for index in range(0,5):\n",
    "        if isinstance(teamA[index],pd.Series):\n",
    "            teamA[index] = teamA[index].values[0]\n",
    "    for index in range(0,5):\n",
    "        if isinstance(teamB[index],pd.Series):\n",
    "            teamB[index] = teamB[index].values[0]\n",
    "\n",
    "    t = teamA[0] - teamB[0]   # Calculate the differences\n",
    "    j = teamA[1] - teamB[1]\n",
    "    m = teamA[2] - teamB[2]\n",
    "    a = teamA[3] - teamB[3]\n",
    "    s = teamA[4] - teamB[4]\n",
    "\n",
    "    # Calculate the results\n",
    "    res = t*-0.12769662 + j*-0.09652615 + m*0.00205015 + a*0.28178966  + s*1.12903653\n",
    "\n",
    "    if res>0:\n",
    "        print(\"The winner is \" + team1 + \" by a differential of \" + str(res))\n",
    "        return team1\n",
    "    else:\n",
    "        print(\"The winner is \" + team2 + \" by a differential of \" + str(res))\n",
    "        return team2"
   ]
  },
  {
   "cell_type": "markdown",
   "metadata": {},
   "source": [
    "Now we will simulate the group stage, by doing a round-robin of the teams in each group and ranking them by wins.\n",
    "We input all of the teams in each group as a list and go through each group, storing the resulting dataframe in 'group'"
   ]
  },
  {
   "cell_type": "markdown",
   "metadata": {},
   "source": [
    "These are the results for the group stage with our model.<br>"
   ]
  },
  {
   "cell_type": "code",
   "execution_count": 33,
   "metadata": {},
   "outputs": [
    {
     "name": "stdout",
     "output_type": "stream",
     "text": [
      "The winner is G2_Esports by a differential of -7.592578526548512\n",
      "The winner is Yoe_Flash_Wolves by a differential of -33.59370213223466\n",
      "The winner is Phong_V%C5%A9_Buffalo by a differential of -34.09542591839573\n",
      "The winner is Yoe_Flash_Wolves by a differential of -26.001123605686146\n",
      "The winner is Phong_V%C5%A9_Buffalo by a differential of -26.50284739184722\n",
      "The winner is Phong_V%C5%A9_Buffalo by a differential of -0.5017237861610738\n",
      "The winner is Cloud9 by a differential of -5.233833257354042\n",
      "The winner is Royal_Never_Give_Up by a differential of 6.2110955390017635\n",
      "The winner is Royal_Never_Give_Up by a differential of 7.692084732657586\n",
      "The winner is Cloud9 by a differential of 11.444928796355805\n",
      "The winner is Cloud9 by a differential of 12.92591799001163\n",
      "The winner is Team_Vitality by a differential of 1.4809891936558235\n",
      "The winner is KTRolster by a differential of 1.0721058836192492\n",
      "The winner is Team_Liquid by a differential of -6.646631205295023\n",
      "The winner is MAD_Team by a differential of -0.19646138149502823\n",
      "The winner is Team_Liquid by a differential of -7.718737088914272\n",
      "The winner is MAD_Team by a differential of -1.2685672651142774\n",
      "The winner is Team_Liquid by a differential of 6.450169823799994\n",
      "The winner is Invictus_Gaming by a differential of -24.233009661197375\n",
      "The winner is Fnatic by a differential of 5.546351939549565\n",
      "The winner is Fnatic by a differential of 28.29464808819137\n",
      "The winner is Invictus_Gaming by a differential of 29.77936160074694\n",
      "The winner is Invictus_Gaming by a differential of 52.527657749388744\n",
      "The winner is 100_Thieves by a differential of 22.748296148641803\n"
     ]
    }
   ],
   "source": [
    "groupFinal = [] # Stores final results from each group\n",
    "rank = {}       # Stores number of wins for each team\n",
    "\n",
    "groupTeams = []\n",
    "groupTeams.append([\"Freecs\", \"G2_Esports\", \"Yoe_Flash_Wolves\", \"Phong_V%C5%A9_Buffalo\"]) # Group A\n",
    "groupTeams.append([\"Royal_Never_Give_Up\", \"Cloud9\", \"Team_Vitality\", \"Gen.G\"])           # Group B\n",
    "groupTeams.append([\"KTRolster\", \"EDward_Gaming\", \"Team_Liquid\", \"MAD_Team\"])             # Group C\n",
    "groupTeams.append([\"Fnatic\", \"Invictus_Gaming\", \"100_Thieves\", \"G-Rex\"])                 # Group D\n",
    "\n",
    "for group in groupTeams:\n",
    "    for x in group:\n",
    "        rank[x] = 0\n",
    "\n",
    "    group2 = list(combinations(group,2))\n",
    "\n",
    "    for match in range(0,len(group2)):\n",
    "        winner = matchup(group2[match][0],group2[match][1])\n",
    "        rank[winner] = rank[winner]+1\n",
    "\n",
    "    final = []\n",
    "    for team in group:\n",
    "        final.append([team,rank[team]])\n",
    "\n",
    "    groupFinal.append(pd.DataFrame(final,columns=['Team','Wins']).sort_values('Wins',ascending=False))"
   ]
  },
  {
   "cell_type": "code",
   "execution_count": 34,
   "metadata": {},
   "outputs": [
    {
     "name": "stdout",
     "output_type": "stream",
     "text": [
      "                    Team  Wins\n",
      "3  Phong_V%C5%A9_Buffalo     3\n",
      "2       Yoe_Flash_Wolves     2\n",
      "1             G2_Esports     1\n",
      "0                 Freecs     0\n",
      "\n",
      "                  Team  Wins\n",
      "1               Cloud9     3\n",
      "0  Royal_Never_Give_Up     2\n",
      "2        Team_Vitality     1\n",
      "3                Gen.G     0\n",
      "\n",
      "            Team  Wins\n",
      "2    Team_Liquid     3\n",
      "3       MAD_Team     2\n",
      "0      KTRolster     1\n",
      "1  EDward_Gaming     0\n",
      "\n",
      "              Team  Wins\n",
      "1  Invictus_Gaming     3\n",
      "0           Fnatic     2\n",
      "2      100_Thieves     1\n",
      "3            G-Rex     0\n",
      "\n"
     ]
    }
   ],
   "source": [
    "for group in groupFinal:\n",
    "    print(group)\n",
    "    print()"
   ]
  },
  {
   "cell_type": "markdown",
   "metadata": {},
   "source": [
    "GROUP A: 4,3,2,1. It predicted the teams in reverse order, which isn't ideal. <br>\n",
    "\n",
    "GROUP B: 2,1,3,4. It got 2/4 correct, but just switched first and second place. That's really good though because the\n",
    "        top 2 teams from each group move on, so it predicted those teams correctly, it just messed up on the seeding.<br>\n",
    "        \n",
    "GROUP C: 3,4,1,2. It was almost in reverse order, and didn't get any of the finalists correctly. <br>\n",
    "\n",
    "GROUP D: 2,1,3,4. It did the same as group B where it only switched the top 2 teams, which is pretty good.\n",
    "\n",
    "One reason the model might not be performing very well is that we aren't considering strength of schedule. For example, if one team does really well during the regular season because they play against bad teams, the model thinks they're better than a \n",
    "team that did decently well in a tough region. We can't add that in as a parameter because all of our data is teams playing\n",
    "against each other in the same region, which would cancel out and become zero. Since we don't have any international data,\n",
    "we can't do this with machine learning, so we will attempt to create our own model and incorporate it in. \n",
    "\n",
    "First, we need a way to tell what region a team is in."
   ]
  },
  {
   "cell_type": "code",
   "execution_count": 35,
   "metadata": {},
   "outputs": [],
   "source": [
    "# Returns a number from 0-6, of what region a team is from. These number are associated with how we store\n",
    "# the teams in the reg list for each region.\n",
    "def region(teamName):\n",
    "    for x in range(0,6): # For each region\n",
    "        if teamName in matchReg[x]['Team 0'].unique(): # If the team is in that region, return the index\n",
    "            return x"
   ]
  },
  {
   "cell_type": "markdown",
   "metadata": {},
   "source": [
    "Next, we need to actually rank the regions from best to worse. Region ranking has the highest being the best.  <br>\n",
    "Our model from best to worst region: LPL, LCK, EU, LMS, NA, VCS.<br>\n",
    "This ranking is purely heuristic, and will only impact the data by a small amount. At most, it will change a result by 5\n",
    "points. The results we've calculated range anywhere from 1 to 30, so it should have an impact, but not a large one. By doing\n",
    "this, it will only impact matches that are really close and hopefully push them over the edge in our favor."
   ]
  },
  {
   "cell_type": "code",
   "execution_count": 36,
   "metadata": {},
   "outputs": [],
   "source": [
    "regRank = {}    \n",
    "regRank[0] = 2 # NA is 5th\n",
    "regRank[1] = 4 # LMS is 4th\n",
    "regRank[2] = 6 # LPL is 1st\n",
    "regRank[3] = 5 # LCK is 2nd\n",
    "regRank[4] = 3 # EU is 3rd\n",
    "regRank[5] = 1 # VCS is 6th"
   ]
  },
  {
   "cell_type": "markdown",
   "metadata": {},
   "source": [
    "To incorporate strength of schedule into the final ranking, we will create a new matchup function that incorporates this."
   ]
  },
  {
   "cell_type": "code",
   "execution_count": 37,
   "metadata": {},
   "outputs": [],
   "source": [
    "def matchup2(team1,team2):\n",
    "    teamA = teams[team1]\n",
    "    teamB = teams[team2]\n",
    "\n",
    "    # Get the data to be the right type\n",
    "    for index in range(0,5):\n",
    "        if isinstance(teamA[index],pd.Series):\n",
    "            teamA[index] = teamA[index].values[0]\n",
    "    for index in range(0,5):\n",
    "        if isinstance(teamB[index],pd.Series):\n",
    "            teamB[index] = teamB[index].values[0]\n",
    "\n",
    "    t = teamA[0] - teamB[0]   # Calculate the differences\n",
    "    j = teamA[1] - teamB[1]\n",
    "    m = teamA[2] - teamB[2]\n",
    "    a = teamA[3] - teamB[3]\n",
    "    s = teamA[4] - teamB[4]\n",
    "    r = regRank[region(team1)] - regRank[region(team2)]  # Region difference\n",
    "\n",
    "    # Calculate the results\n",
    "    res = t*-0.12769662 + j*-0.09652615 + m*0.00205015 + a*0.28178966  + s*1.12903653 + r\n",
    "\n",
    "    if res>0:\n",
    "        print(\"The winner is \" + team1 + \" by a differential of \" + str(res))\n",
    "        return team1\n",
    "    else:\n",
    "        print(\"The winner is \" + team2 + \" by a differential of \" + str(res))\n",
    "        return team2"
   ]
  },
  {
   "cell_type": "markdown",
   "metadata": {},
   "source": [
    "When we add in the regional difference, our results change for the group stage by a little.<br>\n",
    "In group A, it now ranks them 3,4,2,1 instead of 4,3,2,1. So it's a little better, but not by much.<br>\n",
    "In group C, it now ranks them 3,1,2,4 instead of 3,4,1,2. So again it's a little better.<br>\n",
    "\n",
    "If we had more time we would definitely look into grabbing some international data to train the model on regional difference\n",
    "and add that in as a factor, because it would make the model slightly better.\n",
    "\n",
    "Now that we finished the group stage, we will look at the elimination bracket given the starting teams in the bracket and try to predict wins using our new model with strength of schedule included. The first round bracket looks like this:"
   ]
  },
  {
   "cell_type": "code",
   "execution_count": 38,
   "metadata": {},
   "outputs": [],
   "source": [
    "# Africa Freecs --\n",
    "#                  >---Winner---\n",
    "# Cloud 9 --------             \n",
    "                         \n",
    "# Fnatic ---------                                  \n",
    "#                 >---Winner---                      \n",
    "# EDG ------------                                   \n",
    "                                         \n",
    "# KT Rolster -----                                   \n",
    "#                  >---Winner---                      \n",
    "#  Invictus Gaming-                                  \n",
    "                              \n",
    "# Royal Never G.--             \n",
    "#                  >----Winner---\n",
    "# G2 Esports -----\n",
    "\n",
    "\n",
    "# These are the results our model gives:"
   ]
  },
  {
   "cell_type": "code",
   "execution_count": 39,
   "metadata": {},
   "outputs": [
    {
     "name": "stdout",
     "output_type": "stream",
     "text": [
      "The winner is Cloud9 by a differential of -13.904398976723545\n"
     ]
    },
    {
     "data": {
      "text/plain": [
       "'Cloud9'"
      ]
     },
     "metadata": {},
     "output_type": "display_data"
    },
    {
     "name": "stdout",
     "output_type": "stream",
     "text": [
      "The winner is Fnatic by a differential of 3.5574904599936072\n"
     ]
    },
    {
     "data": {
      "text/plain": [
       "'Fnatic'"
      ]
     },
     "metadata": {},
     "output_type": "display_data"
    },
    {
     "name": "stdout",
     "output_type": "stream",
     "text": [
      "The winner is Invictus_Gaming by a differential of 29.718394237571736\n"
     ]
    },
    {
     "data": {
      "text/plain": [
       "'Invictus_Gaming'"
      ]
     },
     "metadata": {},
     "output_type": "display_data"
    },
    {
     "name": "stdout",
     "output_type": "stream",
     "text": [
      "The winner is Royal_Never_Give_Up by a differential of 6.077987192820992\n"
     ]
    },
    {
     "data": {
      "text/plain": [
       "'Royal_Never_Give_Up'"
      ]
     },
     "metadata": {},
     "output_type": "display_data"
    }
   ],
   "source": [
    "display(matchup2('Freecs', 'Cloud9'))\n",
    "display(matchup2(\"Fnatic\",\"EDward_Gaming\"))\n",
    "display(matchup2(\"Invictus_Gaming\", \"KTRolster\"))\n",
    "display(matchup2(\"Royal_Never_Give_Up\",\"G2_Esports\"))"
   ]
  },
  {
   "cell_type": "markdown",
   "metadata": {},
   "source": [
    "Our model predicts all of the first round winners correctly, except for RNG vs. G2. This match was an upset, with G2 coming\n",
    "out on top, and a lot of people had RNG winning the entire tournament. So it's reasonable that our code got it wrong, however,\n",
    "despite that it only had RNG winning by a margin of 6, which is pretty close considering some of the other margins we have\n",
    "between were in the 13-30 range.\n",
    "\n",
    "Now lets move onto the second round bracket. Our second round bracket (which incorrectly includes RNG instead of G2 who won in real life) looks like this:"
   ]
  },
  {
   "cell_type": "code",
   "execution_count": 40,
   "metadata": {},
   "outputs": [],
   "source": [
    "# Africa Freecs --\n",
    "#                  >---Cloud 9---\n",
    "# Cloud 9 --------               ----------\n",
    "#                                          >---Winner\n",
    "# Fnatic ---------             ------------                     \n",
    "#                 >---Fnatic---                      \n",
    "# EDG ------------                                   \n",
    "                                         \n",
    "# KT Rolster -----                                   \n",
    "#                  >---Invictus Gaming---                      \n",
    "#  Invictus Gaming-                     ---             \n",
    "#                                          >---Winner---\n",
    "# Royal Never G.--                      ---\n",
    "#                  >--- Royal Never G.---\n",
    "# G2 Esports -----\n",
    "\n",
    "# These are the results our model gives:"
   ]
  },
  {
   "cell_type": "code",
   "execution_count": 41,
   "metadata": {},
   "outputs": [
    {
     "name": "stdout",
     "output_type": "stream",
     "text": [
      "The winner is Cloud9 by a differential of 8.230398762695497\n"
     ]
    },
    {
     "data": {
      "text/plain": [
       "'Cloud9'"
      ]
     },
     "metadata": {},
     "output_type": "display_data"
    },
    {
     "name": "stdout",
     "output_type": "stream",
     "text": [
      "The winner is Invictus_Gaming by a differential of 19.23644415585592\n"
     ]
    },
    {
     "data": {
      "text/plain": [
       "'Invictus_Gaming'"
      ]
     },
     "metadata": {},
     "output_type": "display_data"
    }
   ],
   "source": [
    "display(matchup2(\"Cloud9\",\"Fnatic\"))\n",
    "display(matchup2(\"Invictus_Gaming\",\"Royal_Never_Give_Up\"))"
   ]
  },
  {
   "cell_type": "markdown",
   "metadata": {},
   "source": [
    "In the semifinals, we predicted Cloud9 to beat Fnatic, which was incorrect, and we predicted Invictus to move on, which was\n",
    "correct. However, it is important to note our model had Cloud9 winning by only 8.23 which is relatively low compared to other margins of victory\n",
    "\n",
    "Now let's predict the final matchup between Cloud9 and Invictus Gaming."
   ]
  },
  {
   "cell_type": "code",
   "execution_count": 42,
   "metadata": {},
   "outputs": [
    {
     "name": "stdout",
     "output_type": "stream",
     "text": [
      "The winner is Invictus_Gaming by a differential of -18.002610898501878\n"
     ]
    },
    {
     "data": {
      "text/plain": [
       "'Invictus_Gaming'"
      ]
     },
     "metadata": {},
     "output_type": "display_data"
    }
   ],
   "source": [
    "display(matchup2(\"Cloud9\", \"Invictus_Gaming\"))"
   ]
  },
  {
   "cell_type": "markdown",
   "metadata": {},
   "source": [
    "In the final match, we predicted Invictus Gaming to win, which was correct. \n",
    "\n",
    "Just for fun, we will also run the actual final matchup, which was Fnatic vs. Invictus Gaming, just to see what our model would have predicted."
   ]
  },
  {
   "cell_type": "code",
   "execution_count": 43,
   "metadata": {},
   "outputs": [
    {
     "name": "stdout",
     "output_type": "stream",
     "text": [
      "The winner is Invictus_Gaming by a differential of -26.233009661197375\n"
     ]
    },
    {
     "data": {
      "text/plain": [
       "'Invictus_Gaming'"
      ]
     },
     "metadata": {},
     "output_type": "display_data"
    }
   ],
   "source": [
    "display(matchup2(\"Fnatic\", \"Invictus_Gaming\"))"
   ]
  },
  {
   "cell_type": "markdown",
   "metadata": {
    "scrolled": true
   },
   "source": [
    "The model's result was Invictus Gaming winning with a margin of 26. 26 is a pretty big\n",
    "margin compared to some of the numbers we've been getting, and that makes sense because they won 3-0 in a best of 5 series.\n",
    "\n",
    "So given the result's of the group stage that we previously generated, let's see what the results would have been if those were the teams placed in the elimination stage.\n",
    "\n",
    "We will save going round by round, since there are no actual results to compare this to, and just output the final bracket from our results. If you would like to check these results or try a hypothetical matchup between two teams, please feel free to use our matchup2 function to do so like we have done throughout our analysis."
   ]
  },
  {
   "cell_type": "code",
   "execution_count": 44,
   "metadata": {},
   "outputs": [],
   "source": [
    "# Flash Wolves ---\n",
    "#     18.9        >---Flash W---\n",
    "# Royal Never G.--             >\n",
    "#                      .3      >---Invictus Gaming---\n",
    "# Invictus Gaming-             >                     >\n",
    "#     29.7        >---Inv. G---                      >\n",
    "# KT Rolster -----                                   >\n",
    "#                                       1.8          >---Invictus Gaming\n",
    "# Team Liquid ----                                   >\n",
    "#     .16         >---Liquid---                      >\n",
    "# Fnatic ---------             >                     >\n",
    "#                      24.2    >-----PV Buffalo------\n",
    "# Cloud 9 --------             >\n",
    "#     16.2        >-PV Buffalo-\n",
    "# PV Buffalo -----"
   ]
  },
  {
   "cell_type": "markdown",
   "metadata": {},
   "source": [
    "So as we can see, Invictus Gaming still would have won in our model's predicted elimination bracket, which is good to see as it means our model is accurate in the long term as model's have more predictions in them.\n",
    "\n",
    "If we don't use the strength of schedule metric, then Flash Wolves would've won over Invictus Gaming, and \n",
    "Phong Vu Buffalo would've beaten Invictus Gaming in the final. It is also worth noting that with the strength of schedule\n",
    "metric, Fnatic almost beat Team Liquid; only losing by .16 instead of 2.16."
   ]
  },
  {
   "cell_type": "markdown",
   "metadata": {},
   "source": [
    "<h1><center>Conclusion and Followup</center></h1>\n",
    "\n",
    "Overall, our model did pretty well considering the small amount of data we added in, using just the most recent summer-season data. We could have expanded this and included data from every region, not just the ones that made it to worlds, and we could have added data from the spring split for those regions. \n",
    "\n",
    "We also saw the importance of a strength of schedule metric that ended up being the deciding factor for some\n",
    "close games. We did a very simple metric of just ranking regions 1-6 and taking the difference. This could've been done with\n",
    "regression to figure out the weights for the difference to see how important it is, and we could've done some ML to\n",
    "determine the rankings of each region, rather than doing it heuristically.\n",
    "\n",
    "With all of these factors in mind, it's pretty impressive that the model worked as well as it did. We only looked at player data, and for each player we only used a portion of their stats that the model told us to use. For some of the positions, ADC especially, these results were very counter intuitive, like having kills and gold share be negatively weighed. Despite this, we trusted the model and went ahead with the calculations and still predicted the winner of worlds correctly, even when we used our results from the group-stage that\n",
    "weren't very good. \n",
    "\n",
    "Therefore, we can see our conclusions that top-laners and junglers should value assists and gold more than kills have some validity as those statistics were the reason we were able to predict the results of worlds at a relatively high accuracy. There is also reason to conclude that ADC's and Mids should play a more cautious game since our model highlighted that their death amount should be very low. This could be because ADC's and Mids are two of the most important positions in the game and when they are dead they are not able to impact the game or generate any gold to help bolster their equipment.\n",
    "\n",
    "Going forward, this model could easily be updated with new data to make it more accurate. For example, after the group stage you could add that player data to your existing data and be able to better predict the eliminiation round. It would also be wise to find a cohesive source of player position data to save from hardcoding in the positions as teams change players. \n",
    "\n",
    "Another popular metric people use is having the data be weighed chronologically, where more recent\n",
    "data is more important than older data. In theory, you would be able provide a weight that says how important a dataframe row is in your heuristic. Features such as decay parameter limits older data into having a lesser effect on the training in machine learning. Doing this would also potentially improve the accuracy of our model. \n",
    "\n",
    "League of Legends remians one of the most played online games, with [fantasy leagues](https://fantasy.na.lolesports.com/en-US) and large public interest in game predictions. However, bot training and game prediction has been up-and-coming more and more recently. This may be due to machine learning becoming a more popular area in schools among the major demographic of the games. Whatever the reason, we believe this data is something both interesting and resourceful to those playing or interested in the game. We were able to accomplish a lot using the knowledge from our semester in 320 to tidy, manipulate, train, and analyze our data. More than just providing data for league learning, our process through data science is applicable to other games for independent analysis by any reader. We hope this tutorial has sparked an interest in and provided a foundation for your journey in data science!\n",
    "\n",
    "For some other cool projects about league, check out the following links on [using AI to improve decision making in league](https://towardsdatascience.com/ai-in-video-games-improving-decision-making-in-league-of-legends-using-real-match-statistics-and-29ebc149b0d0), and [analyzing league with machine learning.](https://data-speaks.luca-d3.com/2017/05/machine-learning-to-analyze-league-of.html) "
   ]
  },
  {
   "cell_type": "code",
   "execution_count": null,
   "metadata": {},
   "outputs": [],
   "source": []
  }
 ],
 "metadata": {
  "kernelspec": {
   "display_name": "Python 3",
   "language": "python",
   "name": "python3"
  },
  "language_info": {
   "codemirror_mode": {
    "name": "ipython",
    "version": 3
   },
   "file_extension": ".py",
   "mimetype": "text/x-python",
   "name": "python",
   "nbconvert_exporter": "python",
   "pygments_lexer": "ipython3",
   "version": "3.6.5"
  }
 },
 "nbformat": 4,
 "nbformat_minor": 2
}
